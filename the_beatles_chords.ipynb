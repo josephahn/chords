{
 "cells": [
  {
   "cell_type": "markdown",
   "metadata": {},
   "source": [
    "# The Beatles Chords"
   ]
  },
  {
   "cell_type": "markdown",
   "metadata": {},
   "source": [
    "## Inspiration\n",
    "\n",
    "This project was inspired by Hooktheory.\n",
    "https://www.hooktheory.com/theorytab/common-chord-progressions\n",
    "https://www.hooktheory.com/trends\n",
    "\n",
    "These are some of the questions this project hopes to shed light on:\n",
    "* What chords are most popular?\n",
    "* How often do these chords show up in songs\n",
    "* What tends to be the next chord?\n",
    "\n",
    "The data was scraped from Ultimate Guitar.\n",
    "https://www.ultimate-guitar.com/artist/the_beatles_1916?filter=chords\n",
    "To demonstrate proof of concept, only The Beatles tabs were scraped and the chords in their songs were analyzed.\n",
    "\n"
   ]
  },
  {
   "cell_type": "code",
   "execution_count": 78,
   "metadata": {},
   "outputs": [],
   "source": [
    "# parse through the csv file and create a data structure\n",
    "# the data should include counts for the following:\n",
    "# 1. total count of each chord and how often they are used\n",
    "# 2. the number of songs each chord is used in\n",
    "# 3. the count of what chords come after each\n",
    "\n",
    "import csv\n",
    "\n",
    "with open('the_beatles_chords.csv', mode='r') as csvfile:\n",
    "    reader = csv.reader(csvfile)\n",
    "    next(reader)\n",
    "    # making dict removes duplicates\n",
    "    chords_dict = {rows[0]:rows[1] for rows in reader}\n",
    "\n",
    "# print(chords_dict)\n",
    "\n",
    "data = {\n",
    "    'total_count': {},\n",
    "    'song_count': {},\n",
    "    'next_chord': {}\n",
    "}\n",
    "\n",
    "for chord_str in chords_dict.values():\n",
    "    chords = chord_str.split(',')\n",
    "    unique_chords = list(set(chords))\n",
    "    \n",
    "    for chord in unique_chords:\n",
    "        if chord in data['song_count']:\n",
    "            data['song_count'][chord] += 1\n",
    "        else:\n",
    "            data['song_count'][chord] = 1\n",
    "    \n",
    "    \n",
    "    for i, chord in enumerate(chords):\n",
    "        if chord in data['total_count']:\n",
    "            data['total_count'][chord] += 1\n",
    "        else:\n",
    "            data['total_count'][chord] = 1\n",
    "        \n",
    "        if i != len(chords)-1:\n",
    "            next_chord = chords[i+1]\n",
    "            if chord in data['next_chord']:\n",
    "                if next_chord in data['next_chord'][chord]:\n",
    "                    data['next_chord'][chord][next_chord] += 1\n",
    "                else:\n",
    "                    data['next_chord'][chord][next_chord] = 1\n",
    "            else:\n",
    "                data['next_chord'][chord] = {\n",
    "                    next_chord: 1\n",
    "                }\n",
    "            \n",
    "# print(data)\n",
    "            "
   ]
  },
  {
   "cell_type": "markdown",
   "metadata": {},
   "source": [
    "## Total chord counts in all songs"
   ]
  },
  {
   "cell_type": "code",
   "execution_count": 109,
   "metadata": {},
   "outputs": [
    {
     "data": {
      "text/html": [
       "\n",
       "\n",
       "\n",
       "\n",
       "\n",
       "\n",
       "  <div class=\"bk-root\" id=\"e5eea77c-5a23-4304-b3e8-477eb79b065d\" data-root-id=\"10011\"></div>\n"
      ]
     },
     "metadata": {},
     "output_type": "display_data"
    },
    {
     "data": {
      "application/javascript": [
       "(function(root) {\n",
       "  function embed_document(root) {\n",
       "    \n",
       "  var docs_json = {\"9d167041-2b6a-4def-a38c-875e2e37c500\":{\"roots\":{\"references\":[{\"attributes\":{\"below\":[{\"id\":\"10022\",\"type\":\"LinearAxis\"}],\"center\":[{\"id\":\"10026\",\"type\":\"Grid\"},{\"id\":\"10030\",\"type\":\"Grid\"},{\"id\":\"10037\",\"type\":\"LabelSet\"}],\"left\":[{\"id\":\"10027\",\"type\":\"CategoricalAxis\"}],\"plot_height\":5000,\"renderers\":[{\"id\":\"10035\",\"type\":\"GlyphRenderer\"}],\"sizing_mode\":\"scale_width\",\"title\":{\"id\":\"10012\",\"type\":\"Title\"},\"toolbar\":{\"id\":\"10031\",\"type\":\"Toolbar\"},\"toolbar_location\":null,\"x_range\":{\"id\":\"10014\",\"type\":\"DataRange1d\"},\"x_scale\":{\"id\":\"10018\",\"type\":\"LinearScale\"},\"y_range\":{\"id\":\"10016\",\"type\":\"FactorRange\"},\"y_scale\":{\"id\":\"10020\",\"type\":\"CategoricalScale\"}},\"id\":\"10011\",\"subtype\":\"Figure\",\"type\":\"Plot\"},{\"attributes\":{},\"id\":\"10020\",\"type\":\"CategoricalScale\"},{\"attributes\":{},\"id\":\"10018\",\"type\":\"LinearScale\"},{\"attributes\":{},\"id\":\"10023\",\"type\":\"BasicTicker\"},{\"attributes\":{\"formatter\":{\"id\":\"10328\",\"type\":\"BasicTickFormatter\"},\"ticker\":{\"id\":\"10023\",\"type\":\"BasicTicker\"}},\"id\":\"10022\",\"type\":\"LinearAxis\"},{\"attributes\":{\"ticker\":{\"id\":\"10023\",\"type\":\"BasicTicker\"}},\"id\":\"10026\",\"type\":\"Grid\"},{\"attributes\":{\"formatter\":{\"id\":\"10330\",\"type\":\"CategoricalTickFormatter\"},\"ticker\":{\"id\":\"10028\",\"type\":\"CategoricalTicker\"}},\"id\":\"10027\",\"type\":\"CategoricalAxis\"},{\"attributes\":{},\"id\":\"10028\",\"type\":\"CategoricalTicker\"},{\"attributes\":{\"dimension\":1,\"ticker\":{\"id\":\"10028\",\"type\":\"CategoricalTicker\"}},\"id\":\"10030\",\"type\":\"Grid\"},{\"attributes\":{\"callback\":null,\"factors\":[\" E\",\"Fdim7\",\"Abaug\",\"A/D\",\"F6add9/A\",\"F6add9/C\",\"F/D\",\"F6add9\",\"C+9\",\"Bm9\",\"C6/9\",\"Em(maj7)\",\"Em(maj7)/D#\",\"Em7/D\",\"Em6/C#\",\"B7-9\",\"C(7)\",\"Dbdim\",\"D-\",\"E-\",\"G-\",\"A-\",\"G+\",\"Cm/G\",\"D7sus\",\"Gsus\",\"B7/D#\",\"Am/E\",\"E/A#\",\"E/A\",\"G#aug\",\"D7/F#\",\"C/A\",\"F#M\",\"C7sus\",\"C/D\",\"Abmaj7\",\"Bdim\",\"Cdim7\",\"Gbdim7\",\"Gb\",\"Dbdim7\",\"Edim7\",\"EB\",\"Eb/G\",\"Eb/C\",\"D7#9\",\"G7#9\",\"A#5\",\"C#5\",\"Gmaj9\",\"D13\",\"E/C#\",\"E7sus4\",\"B/D#\",\"Bdim7/D\",\"Ebm\",\"D/C#\",\"G7/B\",\"Csus\",\"F/G\",\"Am11\",\"Abdim7\",\"G#dim7\",\"Db7\",\"D/E\",\"Am/G#\",\"D7sus2\",\"C#m7b5\",\"Emaj7\",\"A/F\",\"Bsus\",\"A/B\",\"G#m/B\",\"E6/B\",\"Cm6\",\"Gbm\",\"Ebdim7\",\"Bbdim7\",\"Am/C\",\"Fadd2/G\",\"F#maj7\",\"Gmmaj7\",\"C7+5\",\"G/F\",\"E/D\",\"A/F#\",\"B7sus4\",\"Fm/C\",\"Dm7b5/F\",\"Bbm/F\",\"Gmaj\",\"A7sus4\",\"Fadd9/D\",\"G7sus4\",\"G13\",\"Em/G\",\"\",\"D#7\",\"Am7/D\",\"Dmadd9\",\"FM7\",\"Adim7\",\"Gdim7\",\"Am/D\",\"D#+5\",\"Ab6\",\"G11\",\"Fdim\",\"F#mmaj7\",\"G6/E\",\"Dm6\",\"Eb6\",\"Caug\",\"Am/F#\",\"A/G\",\"Bbaug\",\"Faug\",\"Em/Eb\",\"Bb6\",\"F#/C#\",\"Gsus4\",\"Emadd9\",\"F#m/B\",\"G9\",\"Bsus4\",\"Cm7\",\"F/C\",\"F/A\",\"G#5\",\"C7sus4\",\"Bb/A\",\"A(b9)\",\"A4\",\"Abm\",\"A#m\",\"Bm7b5\",\"Bm/G\",\"Db\",\"Daug\",\"G/A\",\"A/E\",\"D#dim\",\"A9\",\"Bbdim\",\"E+5\",\"A7#5\",\"E7/G#\",\"D#m\",\"Amaj9\",\"Gm/Bb\",\"Gs4\",\"Csus2\",\"G#m7b5\",\"D#m7b5\",\"G#7/D#\",\"Cmaj7/E\",\"Amaj7/B\",\"H\",\"Dadd9\",\"E+\",\"As4\",\"Bm6\",\"A/C#\",\"Bdim7\",\"C+\",\"Em/D\",\"Eaug\",\"G/F#\",\"Am6\",\"Dm/F\",\"Aaug\",\"Adim\",\"C#7/F\",\"A6/E\",\"F#m7/E\",\"Ddim\",\"E9\",\"A7sus\",\"Aadd9\",\"C9\",\"C7+9\",\"F#sus4\",\"A13\",\"E/B\",\"G5\",\"Cdim\",\"C#m/G#\",\"Asus2\",\"F#dim7\",\"Gm6\",\"F#m7/B\",\"B9\",\"Dm/C\",\"Dm9\",\"F#7sus4\",\"B/A#\",\"Am7/G\",\"A(v)\",\"Bm/A\",\"Bm/F#\",\"B/F#\",\"Bbm7\",\"Ab7\",\"D7/A\",\"C#dim\",\"Fm6\",\"Amaj7\",\"Am/G\",\"Gaug\",\"F#m7b5\",\"Edim\",\"G7/F\",\"Asus\",\"Asus4\",\"D/Bb\",\"D/F#\",\"B6\",\"D5\",\"Gadd9\",\"C6\",\"E7b9\",\"E5\",\"A5\",\"C11\",\"D/B\",\"E6\",\"Bb/C\",\"C#m7\",\"D/A\",\"Bbm\",\"B5\",\"Csus4\",\"Bbadd9\",\"G#m7\",\"Esus4\",\"Gm7/B\",\"Gm7/Bb\",\"C#\",\"D#\",\"G/D\",\"Ab\",\"Eb7\",\"Dsus2\",\"D6\",\"A6\",\"Dmaj7\",\"F6\",\"D9\",\"Eb\",\"G6\",\"Gmaj7\",\"Bb7\",\"C5\",\"G#7\",\"D7sus4\",\"Em6\",\"C/B\",\"C#7\",\"Cadd9\",\"C/E\",\"Fm7\",\"Cmaj7\",\"G/B\",\"Gm7\",\"Fmaj7\",\"Fadd9\",\"D/C\",\"G#\",\"C/G\",\"Dsus4\",\"G#m\",\"F#m7\",\"Cm\",\"F7\",\"Bm7\",\"Fm\",\"Dm7\",\"Gm\",\"F#7\",\"F#\",\"Em7\",\"Am7\",\"Bb\",\"C7\",\"C#m\",\"Dm\",\"F#m\",\"B\",\"B7\",\"Bm\",\"G7\",\"E7\",\"A7\",\"D7\",\"F\",\"Em\",\"Am\",\"E\",\"C\",\"D\",\"G\",\"A\"]},\"id\":\"10016\",\"type\":\"FactorRange\"},{\"attributes\":{\"text\":\"Total Chord Counts\"},\"id\":\"10012\",\"type\":\"Title\"},{\"attributes\":{\"data_source\":{\"id\":\"10010\",\"type\":\"ColumnDataSource\"},\"glyph\":{\"id\":\"10033\",\"type\":\"HBar\"},\"hover_glyph\":null,\"muted_glyph\":null,\"nonselection_glyph\":{\"id\":\"10034\",\"type\":\"HBar\"},\"selection_glyph\":null,\"view\":{\"id\":\"10036\",\"type\":\"CDSView\"}},\"id\":\"10035\",\"type\":\"GlyphRenderer\"},{\"attributes\":{\"active_drag\":\"auto\",\"active_inspect\":\"auto\",\"active_multi\":null,\"active_scroll\":\"auto\",\"active_tap\":\"auto\"},\"id\":\"10031\",\"type\":\"Toolbar\"},{\"attributes\":{\"fill_color\":{\"value\":\"#1f77b4\"},\"height\":{\"value\":0.9},\"line_color\":{\"value\":\"#1f77b4\"},\"right\":{\"field\":\"counts\"},\"y\":{\"field\":\"chords\"}},\"id\":\"10033\",\"type\":\"HBar\"},{\"attributes\":{\"callback\":null},\"id\":\"10014\",\"type\":\"DataRange1d\"},{\"attributes\":{\"fill_alpha\":{\"value\":0.1},\"fill_color\":{\"value\":\"#1f77b4\"},\"height\":{\"value\":0.9},\"line_alpha\":{\"value\":0.1},\"line_color\":{\"value\":\"#1f77b4\"},\"right\":{\"field\":\"counts\"},\"y\":{\"field\":\"chords\"}},\"id\":\"10034\",\"type\":\"HBar\"},{\"attributes\":{},\"id\":\"10332\",\"type\":\"Selection\"},{\"attributes\":{\"level\":\"glyph\",\"source\":{\"id\":\"10010\",\"type\":\"ColumnDataSource\"},\"text\":{\"field\":\"counts\"},\"text_font_size\":{\"value\":\"12px\"},\"x\":{\"field\":\"counts\"},\"x_offset\":{\"value\":10},\"y\":{\"field\":\"chords\"},\"y_offset\":{\"value\":-6}},\"id\":\"10037\",\"type\":\"LabelSet\"},{\"attributes\":{},\"id\":\"10328\",\"type\":\"BasicTickFormatter\"},{\"attributes\":{\"callback\":null,\"data\":{\"chords\":[\"D\",\"A\",\"C\",\"G\",\"G6\",\"C/E\",\"D/C\",\"D/B\",\"D/A\",\"Dsus4\",\"E\",\"C#m7\",\"F#m7\",\"B7\",\"G#7\",\"F\",\"Am\",\"A7\",\"Dm\",\"G7\",\"Em\",\"G#\",\"D6\",\"Dm6\",\"E7sus4\",\"E7\",\"F#m\",\"A/F#\",\"A6\",\"B7sus4\",\" E\",\"Bm\",\"Bm/A\",\"F#7sus4\",\"F#\",\"Bm/G\",\"Bm/F#\",\"B\",\"G/D\",\"D7\",\"Asus4\",\"F#m7/B\",\"B9\",\"Bm6\",\"C#m\",\"F#7\",\"B/A#\",\"G#m7\",\"B/F#\",\"Bm7\",\"G#m7b5\",\"Gmaj7\",\"F#sus4\",\"A/C#\",\"B/D#\",\"Bbm7\",\"Eb6\",\"Bdim7/D\",\"Bdim7\",\"Fm\",\"Ab7\",\"Db\",\"C7\",\"Fm/C\",\"Caug\",\"Fm7\",\"Dm7b5/F\",\"Bbm/F\",\"Ddim\",\"Bb\",\"Dsus2\",\"Daug\",\"G/A\",\"Ebm\",\"Bbm\",\"Fdim7\",\"Gm\",\"Em7\",\"D9\",\"Gmaj\",\"Em6\",\"Cm\",\"Am7\",\"Gm7\",\"Gaug\",\"Ab\",\"F7\",\"Abaug\",\"Esus4\",\"Fmaj7\",\"F#m7b5\",\"Am/F#\",\"A/G\",\"D/Bb\",\"A/D\",\"Gm7/B\",\"Gm7/Bb\",\"D5\",\"C#\",\"G#m\",\"Eb\",\"D/F#\",\"D7/A\",\"Bbaug\",\"Edim\",\"C#7\",\"A7sus4\",\"Faug\",\"D7sus4\",\"Fadd9/D\",\"F6add9/A\",\"F6add9/C\",\"Fadd9\",\"C6\",\"Dm7\",\"F/D\",\"Cadd9\",\"F6add9\",\"G7sus4\",\"Cmaj7\",\"C+9\",\"Bm9\",\"F6\",\"Am7/G\",\"G7/F\",\"C6/9\",\"Em(maj7)\",\"Em(maj7)/D#\",\"Em7/D\",\"Em6/C#\",\"B5\",\"E9\",\"B7-9\",\"C/B\",\"Csus4\",\"G/B\",\"G13\",\"C(7)\",\"C#m/G#\",\"A/E\",\"Asus2\",\"C#dim\",\"D#dim\",\"Dbdim\",\"Em/Eb\",\"Bb6\",\"Dm/C\",\"Em/G\",\"D#m7b5\",\"G#7/D#\",\"A13\",\"A9\",\"F#/C#\",\"D#\",\"Gadd9\",\"D/C#\",\"\",\"C/G\",\"Bbdim\",\"G7/B\",\"E+5\",\"Gsus4\",\"Csus\",\"C+\",\"Bbadd9\",\"Fm6\",\"E6\",\"Emadd9\",\"Em/D\",\"Cmaj7/E\",\"D-\",\"E-\",\"G-\",\"A-\",\"A7#5\",\"G+\",\"Amaj7/B\",\"F#m/B\",\"H\",\"E/B\",\"B6\",\"G9\",\"Dadd9\",\"A7sus\",\"Eaug\",\"G/F#\",\"F/G\",\"Cm/G\",\"F#dim7\",\"Bsus4\",\"Am6\",\"Bb7\",\"D#7\",\"Am11\",\"D7sus\",\"Am7/D\",\"Cm7\",\"Dmadd9\",\"Dm9\",\"FM7\",\"Gsus\",\"B7/D#\",\"Am/E\",\"F/C\",\"Adim7\",\"Abdim7\",\"Gdim7\",\"G#dim7\",\"Db7\",\"F/A\",\"E7b9\",\"E7/G#\",\"Dm/F\",\"C5\",\"Aaug\",\"G5\",\"G#5\",\"E5\",\"D/E\",\"Aadd9\",\"Asus\",\"Dmaj7\",\"Am/G#\",\"D#m\",\"D7sus2\",\"Am/D\",\"Eb7\",\"C#m7b5\",\"E/A#\",\"E/A\",\"C7sus4\",\"Bb/A\",\"Amaj9\",\"Amaj7\",\"A(b9)\",\"D#+5\",\"Emaj7\",\"Am/G\",\"G#aug\",\"D7/F#\",\"C9\",\"A/F\",\"Bsus\",\"C/A\",\"Gm/Bb\",\"F#M\",\"C7sus\",\"A/B\",\"G#m/B\",\"E6/B\",\"Bb/C\",\"A5\",\"A4\",\"Adim\",\"Cm6\",\"C/D\",\"C#7/F\",\"A6/E\",\"A(v)\",\"E+\",\"Abm\",\"Gbm\",\"A#m\",\"Ab6\",\"Abmaj7\",\"Bdim\",\"Cdim7\",\"Ebdim7\",\"Gbdim7\",\"Gb\",\"Bbdim7\",\"Dbdim7\",\"Edim7\",\"G11\",\"Cdim\",\"Fdim\",\"EB\",\"Eb/G\",\"Eb/C\",\"Am/C\",\"D7#9\",\"G7#9\",\"F#m7/E\",\"Fadd2/G\",\"F#mmaj7\",\"F#maj7\",\"A#5\",\"C#5\",\"C11\",\"C7+9\",\"Gmmaj7\",\"C7+5\",\"As4\",\"Gs4\",\"Gm6\",\"Bm7b5\",\"G/F\",\"Gmaj9\",\"D13\",\"Csus2\",\"E/D\",\"E/C#\",\"G6/E\"],\"counts\":[1921,2174,1565,2063,32,41,56,20,23,64,1438,22,77,404,33,614,663,595,264,484,648,57,27,4,2,521,358,3,28,3,1,452,13,12,145,5,13,385,25,601,16,11,11,7,246,98,12,24,13,83,6,32,9,7,2,13,4,2,7,84,13,5,206,3,4,41,3,3,8,169,26,5,5,2,23,1,93,147,31,3,34,79,149,46,15,25,80,1,24,47,15,4,4,16,1,24,24,18,24,73,31,17,13,4,15,37,3,4,33,3,1,1,50,19,91,1,38,1,3,41,1,1,30,12,15,1,1,1,1,1,23,8,1,35,23,43,3,1,10,5,10,13,5,1,4,4,11,3,6,6,9,5,4,24,18,2,3,63,5,2,5,4,2,7,23,13,20,4,7,6,1,1,1,1,5,1,6,4,6,9,17,4,6,8,7,7,2,1,10,4,7,32,3,2,1,3,4,3,11,3,1,1,1,4,3,2,3,2,2,4,19,5,7,32,7,9,4,19,2,8,15,28,2,5,2,3,25,2,1,1,4,4,5,13,4,3,2,14,1,1,8,2,2,1,5,1,1,2,2,2,20,19,4,7,2,1,7,7,12,6,4,2,4,3,1,1,1,2,1,1,2,1,1,3,9,3,1,1,1,2,1,1,7,2,3,2,1,1,19,8,2,2,6,5,10,4,2,1,1,5,2,1,3]},\"selected\":{\"id\":\"10332\",\"type\":\"Selection\"},\"selection_policy\":{\"id\":\"10331\",\"type\":\"UnionRenderers\"}},\"id\":\"10010\",\"type\":\"ColumnDataSource\"},{\"attributes\":{},\"id\":\"10331\",\"type\":\"UnionRenderers\"},{\"attributes\":{\"source\":{\"id\":\"10010\",\"type\":\"ColumnDataSource\"}},\"id\":\"10036\",\"type\":\"CDSView\"},{\"attributes\":{},\"id\":\"10330\",\"type\":\"CategoricalTickFormatter\"}],\"root_ids\":[\"10011\"]},\"title\":\"Bokeh Application\",\"version\":\"1.4.0\"}};\n",
       "  var render_items = [{\"docid\":\"9d167041-2b6a-4def-a38c-875e2e37c500\",\"roots\":{\"10011\":\"e5eea77c-5a23-4304-b3e8-477eb79b065d\"}}];\n",
       "  root.Bokeh.embed.embed_items_notebook(docs_json, render_items);\n",
       "\n",
       "  }\n",
       "  if (root.Bokeh !== undefined) {\n",
       "    embed_document(root);\n",
       "  } else {\n",
       "    var attempts = 0;\n",
       "    var timer = setInterval(function(root) {\n",
       "      if (root.Bokeh !== undefined) {\n",
       "        clearInterval(timer);\n",
       "        embed_document(root);\n",
       "      } else {\n",
       "        attempts++;\n",
       "        if (attempts > 100) {\n",
       "          clearInterval(timer);\n",
       "          console.log(\"Bokeh: ERROR: Unable to run BokehJS code because BokehJS library is missing\");\n",
       "        }\n",
       "      }\n",
       "    }, 10, root)\n",
       "  }\n",
       "})(window);"
      ],
      "application/vnd.bokehjs_exec.v0+json": ""
     },
     "metadata": {
      "application/vnd.bokehjs_exec.v0+json": {
       "id": "10011"
      }
     },
     "output_type": "display_data"
    }
   ],
   "source": [
    "from bokeh.io import output_file, show\n",
    "from bokeh.plotting import figure\n",
    "from bokeh.models import ColumnDataSource, LabelSet\n",
    "\n",
    "total_count_chords = []\n",
    "total_count_counts = []\n",
    "\n",
    "for chord, count in data['total_count'].items():\n",
    "    total_count_chords.append(chord)\n",
    "    total_count_counts.append(count)\n",
    "    \n",
    "sorted_chords = sorted(total_count_chords, key=lambda c: total_count_counts[total_count_chords.index(c)])\n",
    "\n",
    "source = ColumnDataSource(data=dict(chords=total_count_chords, counts=total_count_counts))\n",
    "\n",
    "p = figure(y_range=sorted_chords,\n",
    "           title=\"Total Chord Counts\",\n",
    "           toolbar_location=None,\n",
    "           tools=\"\",\n",
    "           height=5000,\n",
    "           sizing_mode=\"scale_width\")\n",
    "p.hbar(y='chords', right='counts', height=0.9, source=source)\n",
    "\n",
    "labels = LabelSet(x='counts', y='chords', text='counts', level='glyph',\n",
    "        x_offset=10, y_offset=-6, source=source, render_mode='canvas', text_font_size='12px')\n",
    "p.add_layout(labels)\n",
    "\n",
    "show(p)\n"
   ]
  },
  {
   "cell_type": "markdown",
   "metadata": {},
   "source": [
    "## Counts of songs each chord appears in"
   ]
  },
  {
   "cell_type": "code",
   "execution_count": 110,
   "metadata": {},
   "outputs": [
    {
     "data": {
      "text/html": [
       "\n",
       "\n",
       "\n",
       "\n",
       "\n",
       "\n",
       "  <div class=\"bk-root\" id=\"7982cf50-7cb4-408a-9331-a9cc0240a7d0\" data-root-id=\"10376\"></div>\n"
      ]
     },
     "metadata": {},
     "output_type": "display_data"
    },
    {
     "data": {
      "application/javascript": [
       "(function(root) {\n",
       "  function embed_document(root) {\n",
       "    \n",
       "  var docs_json = {\"9413dc67-d42c-41f3-b81a-a3a1d94537ab\":{\"roots\":{\"references\":[{\"attributes\":{\"below\":[{\"id\":\"10387\",\"type\":\"LinearAxis\"}],\"center\":[{\"id\":\"10391\",\"type\":\"Grid\"},{\"id\":\"10395\",\"type\":\"Grid\"},{\"id\":\"10402\",\"type\":\"LabelSet\"}],\"left\":[{\"id\":\"10392\",\"type\":\"CategoricalAxis\"}],\"plot_height\":5000,\"renderers\":[{\"id\":\"10400\",\"type\":\"GlyphRenderer\"}],\"sizing_mode\":\"scale_width\",\"title\":{\"id\":\"10377\",\"type\":\"Title\"},\"toolbar\":{\"id\":\"10396\",\"type\":\"Toolbar\"},\"toolbar_location\":null,\"x_range\":{\"id\":\"10379\",\"type\":\"DataRange1d\"},\"x_scale\":{\"id\":\"10383\",\"type\":\"LinearScale\"},\"y_range\":{\"id\":\"10381\",\"type\":\"FactorRange\"},\"y_scale\":{\"id\":\"10385\",\"type\":\"CategoricalScale\"}},\"id\":\"10376\",\"subtype\":\"Figure\",\"type\":\"Plot\"},{\"attributes\":{},\"id\":\"10393\",\"type\":\"CategoricalTicker\"},{\"attributes\":{\"formatter\":{\"id\":\"10702\",\"type\":\"CategoricalTickFormatter\"},\"ticker\":{\"id\":\"10393\",\"type\":\"CategoricalTicker\"}},\"id\":\"10392\",\"type\":\"CategoricalAxis\"},{\"attributes\":{\"callback\":null},\"id\":\"10379\",\"type\":\"DataRange1d\"},{\"attributes\":{\"fill_alpha\":{\"value\":0.1},\"fill_color\":{\"value\":\"#1f77b4\"},\"height\":{\"value\":0.9},\"line_alpha\":{\"value\":0.1},\"line_color\":{\"value\":\"#1f77b4\"},\"right\":{\"field\":\"counts\"},\"y\":{\"field\":\"chords\"}},\"id\":\"10399\",\"type\":\"HBar\"},{\"attributes\":{},\"id\":\"10703\",\"type\":\"UnionRenderers\"},{\"attributes\":{},\"id\":\"10383\",\"type\":\"LinearScale\"},{\"attributes\":{},\"id\":\"10700\",\"type\":\"BasicTickFormatter\"},{\"attributes\":{\"source\":{\"id\":\"10375\",\"type\":\"ColumnDataSource\"}},\"id\":\"10401\",\"type\":\"CDSView\"},{\"attributes\":{\"formatter\":{\"id\":\"10700\",\"type\":\"BasicTickFormatter\"},\"ticker\":{\"id\":\"10388\",\"type\":\"BasicTicker\"}},\"id\":\"10387\",\"type\":\"LinearAxis\"},{\"attributes\":{},\"id\":\"10388\",\"type\":\"BasicTicker\"},{\"attributes\":{},\"id\":\"10385\",\"type\":\"CategoricalScale\"},{\"attributes\":{\"ticker\":{\"id\":\"10388\",\"type\":\"BasicTicker\"}},\"id\":\"10391\",\"type\":\"Grid\"},{\"attributes\":{\"fill_color\":{\"value\":\"#1f77b4\"},\"height\":{\"value\":0.9},\"line_color\":{\"value\":\"#1f77b4\"},\"right\":{\"field\":\"counts\"},\"y\":{\"field\":\"chords\"}},\"id\":\"10398\",\"type\":\"HBar\"},{\"attributes\":{\"dimension\":1,\"ticker\":{\"id\":\"10393\",\"type\":\"CategoricalTicker\"}},\"id\":\"10395\",\"type\":\"Grid\"},{\"attributes\":{\"active_drag\":\"auto\",\"active_inspect\":\"auto\",\"active_multi\":null,\"active_scroll\":\"auto\",\"active_tap\":\"auto\"},\"id\":\"10396\",\"type\":\"Toolbar\"},{\"attributes\":{\"data_source\":{\"id\":\"10375\",\"type\":\"ColumnDataSource\"},\"glyph\":{\"id\":\"10398\",\"type\":\"HBar\"},\"hover_glyph\":null,\"muted_glyph\":null,\"nonselection_glyph\":{\"id\":\"10399\",\"type\":\"HBar\"},\"selection_glyph\":null,\"view\":{\"id\":\"10401\",\"type\":\"CDSView\"}},\"id\":\"10400\",\"type\":\"GlyphRenderer\"},{\"attributes\":{\"callback\":null,\"data\":{\"chords\":[\"C\",\"G\",\"A\",\"D\",\"D/C\",\"D/B\",\"G6\",\"C/E\",\"D/A\",\"Dsus4\",\"F#m7\",\"E\",\"B7\",\"F\",\"C#m7\",\"G#7\",\"Dm\",\"Em\",\"Am\",\"A7\",\"G7\",\"G#\",\"D6\",\"E7sus4\",\"E7\",\"Dm6\",\"F#m\",\"A/F#\",\"A6\",\"B7sus4\",\" E\",\"Bm/G\",\"Bm/A\",\"Bm\",\"F#7sus4\",\"B\",\"Bm/F#\",\"F#\",\"D7\",\"Asus4\",\"G/D\",\"F#m7/B\",\"B9\",\"C#m\",\"F#7\",\"Bm6\",\"Bm7\",\"Gmaj7\",\"A/C#\",\"B/D#\",\"B/F#\",\"F#sus4\",\"G#m7b5\",\"B/A#\",\"G#m7\",\"Fm\",\"Eb6\",\"Ddim\",\"Fm/C\",\"C7\",\"Db\",\"Bdim7\",\"Bbm7\",\"Caug\",\"Bdim7/D\",\"Ab7\",\"Dm7b5/F\",\"Fm7\",\"Bbm/F\",\"Bb\",\"Daug\",\"Dsus2\",\"G/A\",\"Fdim7\",\"Gm\",\"Em7\",\"Bbm\",\"Ebm\",\"D9\",\"Em6\",\"Gmaj\",\"Am7\",\"Cm\",\"Ab\",\"Gm7\",\"Abaug\",\"F7\",\"Gaug\",\"Esus4\",\"Am/F#\",\"A/G\",\"F#m7b5\",\"Fmaj7\",\"Gm7/Bb\",\"D5\",\"A/D\",\"D/Bb\",\"Gm7/B\",\"C#\",\"G#m\",\"Eb\",\"D7/A\",\"D/F#\",\"Bbaug\",\"Edim\",\"C#7\",\"A7sus4\",\"Faug\",\"Cadd9\",\"Dm7\",\"D7sus4\",\"Fadd9\",\"F6add9/A\",\"Fadd9/D\",\"F/D\",\"F6add9\",\"F6add9/C\",\"G7sus4\",\"C6\",\"Cmaj7\",\"C+9\",\"Bm9\",\"F6\",\"Am7/G\",\"G7/F\",\"C6/9\",\"Em(maj7)/D#\",\"Em7/D\",\"Em6/C#\",\"Em(maj7)\",\"B5\",\"E9\",\"B7-9\",\"G/B\",\"Csus4\",\"C/B\",\"G13\",\"C(7)\",\"A/E\",\"Dbdim\",\"D#dim\",\"C#dim\",\"C#m/G#\",\"Asus2\",\"Em/Eb\",\"Bb6\",\"Dm/C\",\"Em/G\",\"A13\",\"G#7/D#\",\"A9\",\"D#m7b5\",\"F#/C#\",\"D#\",\"D/C#\",\"Gadd9\",\"\",\"G7/B\",\"C/G\",\"Bbdim\",\"E+5\",\"Gsus4\",\"Csus\",\"C+\",\"Fm6\",\"Bbadd9\",\"E6\",\"Em/D\",\"Cmaj7/E\",\"Emadd9\",\"A-\",\"D-\",\"E-\",\"G-\",\"A7#5\",\"G+\",\"F#m/B\",\"Amaj7/B\",\"H\",\"E/B\",\"B6\",\"G9\",\"A7sus\",\"Dadd9\",\"Eaug\",\"G/F#\",\"F#dim7\",\"Cm/G\",\"F/G\",\"Bsus4\",\"Am6\",\"Bb7\",\"D#7\",\"Am11\",\"D7sus\",\"Am7/D\",\"Dmadd9\",\"Cm7\",\"Dm9\",\"FM7\",\"Gsus\",\"F/C\",\"Am/E\",\"B7/D#\",\"Gdim7\",\"Abdim7\",\"G#dim7\",\"Adim7\",\"F/A\",\"Db7\",\"E7b9\",\"G#5\",\"G5\",\"E7/G#\",\"C5\",\"Aaug\",\"Dm/F\",\"E5\",\"D/E\",\"Asus\",\"Dmaj7\",\"Aadd9\",\"Am/G#\",\"D#m\",\"D7sus2\",\"Eb7\",\"Am/D\",\"C#m7b5\",\"E/A\",\"E/A#\",\"C7sus4\",\"Bb/A\",\"Amaj7\",\"Amaj9\",\"Emaj7\",\"D#+5\",\"A(b9)\",\"Am/G\",\"D7/F#\",\"G#aug\",\"C9\",\"A/F\",\"Bsus\",\"C/A\",\"Gm/Bb\",\"F#M\",\"C7sus\",\"A/B\",\"E6/B\",\"G#m/B\",\"Bb/C\",\"A4\",\"A5\",\"Adim\",\"Cm6\",\"C/D\",\"A6/E\",\"C#7/F\",\"A(v)\",\"E+\",\"Abm\",\"Gbm\",\"A#m\",\"Ab6\",\"Gb\",\"Ebdim7\",\"Edim7\",\"Cdim7\",\"Bdim\",\"Dbdim7\",\"Abmaj7\",\"Gbdim7\",\"Bbdim7\",\"G11\",\"Fdim\",\"Cdim\",\"Eb/G\",\"EB\",\"Eb/C\",\"Am/C\",\"D7#9\",\"G7#9\",\"Fadd2/G\",\"F#m7/E\",\"F#maj7\",\"F#mmaj7\",\"A#5\",\"C#5\",\"C11\",\"C7+5\",\"C7+9\",\"Gmmaj7\",\"Gs4\",\"As4\",\"Gm6\",\"Bm7b5\",\"G/F\",\"Gmaj9\",\"D13\",\"Csus2\",\"E/C#\",\"E/D\",\"G6/E\"],\"counts\":[158,180,194,182,5,3,10,5,5,12,14,149,73,95,5,9,46,75,87,98,68,13,7,1,76,2,56,2,11,1,1,1,2,71,2,62,2,35,80,4,6,1,1,37,20,3,14,7,2,1,2,1,1,1,3,12,1,2,1,35,3,1,2,2,1,3,1,4,1,39,1,7,3,1,24,26,4,1,6,8,1,26,15,11,7,1,17,4,5,2,2,2,14,1,3,1,1,1,10,15,9,2,4,1,1,12,1,1,4,16,5,5,1,1,1,1,1,2,6,10,1,1,7,4,2,1,1,1,1,1,5,3,1,8,4,8,1,1,3,1,2,3,2,4,1,1,2,1,2,1,1,1,2,6,1,2,3,1,14,2,1,2,1,1,2,1,6,3,1,2,1,1,1,1,1,1,2,1,1,3,3,4,2,2,3,2,3,1,1,2,3,8,2,1,1,1,1,3,4,1,1,3,1,1,1,1,2,1,3,1,1,1,2,1,3,1,1,2,1,2,5,1,1,1,1,4,2,1,1,1,1,1,3,1,1,1,1,2,1,1,3,1,1,1,1,1,1,1,1,1,1,1,3,2,1,1,1,1,1,1,1,1,1,1,1,1,1,1,1,1,1,1,1,1,1,2,1,1,1,1,1,1,1,1,1,1,1,1,2,1,1,1,1,1,1,1,1,1,1,1,1,1,1]},\"selected\":{\"id\":\"10704\",\"type\":\"Selection\"},\"selection_policy\":{\"id\":\"10703\",\"type\":\"UnionRenderers\"}},\"id\":\"10375\",\"type\":\"ColumnDataSource\"},{\"attributes\":{\"level\":\"glyph\",\"source\":{\"id\":\"10375\",\"type\":\"ColumnDataSource\"},\"text\":{\"field\":\"counts\"},\"text_font_size\":{\"value\":\"12px\"},\"x\":{\"field\":\"counts\"},\"x_offset\":{\"value\":10},\"y\":{\"field\":\"chords\"},\"y_offset\":{\"value\":-6}},\"id\":\"10402\",\"type\":\"LabelSet\"},{\"attributes\":{\"callback\":null,\"factors\":[\"E7sus4\",\"B7sus4\",\" E\",\"Bm/G\",\"F#m7/B\",\"B9\",\"B/D#\",\"F#sus4\",\"G#m7b5\",\"B/A#\",\"Eb6\",\"Fm/C\",\"Bdim7\",\"Bdim7/D\",\"Dm7b5/F\",\"Bbm/F\",\"Daug\",\"Fdim7\",\"Ebm\",\"Gmaj\",\"Abaug\",\"Gm7/Bb\",\"A/D\",\"D/Bb\",\"Gm7/B\",\"Bbaug\",\"Edim\",\"A7sus4\",\"Faug\",\"F6add9/A\",\"Fadd9/D\",\"F/D\",\"F6add9\",\"F6add9/C\",\"C+9\",\"Bm9\",\"C6/9\",\"Em(maj7)/D#\",\"Em7/D\",\"Em6/C#\",\"Em(maj7)\",\"B7-9\",\"G13\",\"C(7)\",\"Dbdim\",\"Em/Eb\",\"Bb6\",\"Em/G\",\"G#7/D#\",\"A9\",\"D#m7b5\",\"D/C#\",\"G7/B\",\"E+5\",\"Csus\",\"C+\",\"Bbadd9\",\"Cmaj7/E\",\"A-\",\"D-\",\"E-\",\"G-\",\"A7#5\",\"G+\",\"Amaj7/B\",\"H\",\"Cm/G\",\"F/G\",\"Am11\",\"D7sus\",\"Am7/D\",\"Dmadd9\",\"FM7\",\"Gsus\",\"Am/E\",\"B7/D#\",\"Gdim7\",\"Abdim7\",\"Adim7\",\"Db7\",\"E7b9\",\"G#5\",\"E7/G#\",\"Aaug\",\"Dm/F\",\"D/E\",\"Aadd9\",\"Am/G#\",\"D#m\",\"D7sus2\",\"C#m7b5\",\"E/A\",\"E/A#\",\"C7sus4\",\"Bb/A\",\"Amaj9\",\"Emaj7\",\"D#+5\",\"A(b9)\",\"D7/F#\",\"G#aug\",\"A/F\",\"Bsus\",\"C/A\",\"Gm/Bb\",\"F#M\",\"C7sus\",\"A/B\",\"E6/B\",\"G#m/B\",\"Bb/C\",\"A4\",\"Cm6\",\"C/D\",\"A6/E\",\"C#7/F\",\"A(v)\",\"E+\",\"Abm\",\"Gbm\",\"A#m\",\"Ab6\",\"Gb\",\"Ebdim7\",\"Edim7\",\"Cdim7\",\"Bdim\",\"Dbdim7\",\"Abmaj7\",\"Gbdim7\",\"Bbdim7\",\"G11\",\"Fdim\",\"Eb/G\",\"EB\",\"Eb/C\",\"Am/C\",\"D7#9\",\"G7#9\",\"Fadd2/G\",\"F#m7/E\",\"F#maj7\",\"F#mmaj7\",\"A#5\",\"C#5\",\"C7+5\",\"C7+9\",\"Gmmaj7\",\"Gs4\",\"As4\",\"Gm6\",\"Bm7b5\",\"G/F\",\"Gmaj9\",\"D13\",\"Csus2\",\"E/C#\",\"E/D\",\"G6/E\",\"Dm6\",\"A/F#\",\"Bm/A\",\"F#7sus4\",\"Bm/F#\",\"A/C#\",\"B/F#\",\"Ddim\",\"Bbm7\",\"Caug\",\"Am/F#\",\"A/G\",\"F#m7b5\",\"D7/A\",\"G7sus4\",\"G7/F\",\"D#dim\",\"C#m/G#\",\"Dm/C\",\"A13\",\"F#/C#\",\"Gadd9\",\"Bbdim\",\"Gsus4\",\"Fm6\",\"Emadd9\",\"F#m/B\",\"A7sus\",\"Dadd9\",\"G/F#\",\"Bsus4\",\"D#7\",\"G#dim7\",\"G5\",\"E5\",\"Asus\",\"Am/D\",\"Am/G\",\"Adim\",\"Cdim\",\"C11\",\"D/B\",\"Bm6\",\"G#m7\",\"Db\",\"Ab7\",\"G/A\",\"D5\",\"E9\",\"A/E\",\"C#dim\",\"\",\"Em/D\",\"E/B\",\"B6\",\"Eaug\",\"F#dim7\",\"Am6\",\"Cm7\",\"F/C\",\"F/A\",\"C5\",\"Amaj7\",\"C9\",\"A5\",\"Asus4\",\"Fm7\",\"Bbm\",\"Gaug\",\"D/F#\",\"Cadd9\",\"Am7/G\",\"Csus4\",\"Asus2\",\"G9\",\"Dm9\",\"Eb7\",\"D/C\",\"C/E\",\"D/A\",\"C#m7\",\"Esus4\",\"D7sus4\",\"Fadd9\",\"B5\",\"Dmaj7\",\"G/D\",\"D9\",\"C6\",\"D#\",\"E6\",\"D6\",\"Gmaj7\",\"Dsus2\",\"Gm7\",\"F6\",\"Em6\",\"G/B\",\"C/B\",\"Bb7\",\"G#7\",\"Eb\",\"G6\",\"C#\",\"Cmaj7\",\"A6\",\"Ab\",\"Dsus4\",\"Fm\",\"C#7\",\"G#\",\"F#m7\",\"Bm7\",\"Fmaj7\",\"C/G\",\"Cm\",\"G#m\",\"Dm7\",\"F7\",\"F#7\",\"Gm\",\"Em7\",\"Am7\",\"F#\",\"C7\",\"C#m\",\"Bb\",\"Dm\",\"F#m\",\"B\",\"G7\",\"Bm\",\"B7\",\"Em\",\"E7\",\"D7\",\"Am\",\"F\",\"A7\",\"E\",\"C\",\"G\",\"D\",\"A\"]},\"id\":\"10381\",\"type\":\"FactorRange\"},{\"attributes\":{},\"id\":\"10702\",\"type\":\"CategoricalTickFormatter\"},{\"attributes\":{},\"id\":\"10704\",\"type\":\"Selection\"},{\"attributes\":{\"text\":\"Chord Song Counts\"},\"id\":\"10377\",\"type\":\"Title\"}],\"root_ids\":[\"10376\"]},\"title\":\"Bokeh Application\",\"version\":\"1.4.0\"}};\n",
       "  var render_items = [{\"docid\":\"9413dc67-d42c-41f3-b81a-a3a1d94537ab\",\"roots\":{\"10376\":\"7982cf50-7cb4-408a-9331-a9cc0240a7d0\"}}];\n",
       "  root.Bokeh.embed.embed_items_notebook(docs_json, render_items);\n",
       "\n",
       "  }\n",
       "  if (root.Bokeh !== undefined) {\n",
       "    embed_document(root);\n",
       "  } else {\n",
       "    var attempts = 0;\n",
       "    var timer = setInterval(function(root) {\n",
       "      if (root.Bokeh !== undefined) {\n",
       "        clearInterval(timer);\n",
       "        embed_document(root);\n",
       "      } else {\n",
       "        attempts++;\n",
       "        if (attempts > 100) {\n",
       "          clearInterval(timer);\n",
       "          console.log(\"Bokeh: ERROR: Unable to run BokehJS code because BokehJS library is missing\");\n",
       "        }\n",
       "      }\n",
       "    }, 10, root)\n",
       "  }\n",
       "})(window);"
      ],
      "application/vnd.bokehjs_exec.v0+json": ""
     },
     "metadata": {
      "application/vnd.bokehjs_exec.v0+json": {
       "id": "10376"
      }
     },
     "output_type": "display_data"
    }
   ],
   "source": [
    "song_count_chords = []\n",
    "song_count_counts = []\n",
    "\n",
    "for chord, count in data['song_count'].items():\n",
    "    song_count_chords.append(chord)\n",
    "    song_count_counts.append(count)\n",
    "    \n",
    "sorted_chords = sorted(song_count_chords, key=lambda c: song_count_counts[song_count_chords.index(c)])\n",
    "\n",
    "source = ColumnDataSource(data=dict(chords=song_count_chords, counts=song_count_counts))\n",
    "\n",
    "p = figure(y_range=sorted_chords,\n",
    "           title=\"Chord Song Counts\",\n",
    "           toolbar_location=None,\n",
    "           tools=\"\",\n",
    "           height=5000,\n",
    "           sizing_mode=\"scale_width\")\n",
    "p.hbar(y='chords', right='counts', height=0.9, source=source)\n",
    "\n",
    "labels = LabelSet(x='counts', y='chords', text='counts', level='glyph',\n",
    "        x_offset=10, y_offset=-6, source=source, render_mode='canvas', text_font_size='12px')\n",
    "p.add_layout(labels)\n",
    "\n",
    "show(p)"
   ]
  },
  {
   "cell_type": "markdown",
   "metadata": {},
   "source": [
    "## Analysis of next chords"
   ]
  },
  {
   "cell_type": "code",
   "execution_count": 165,
   "metadata": {
    "scrolled": false
   },
   "outputs": [
    {
     "data": {
      "text/html": [
       "\n",
       "\n",
       "\n",
       "\n",
       "\n",
       "\n",
       "  <div class=\"bk-root\" id=\"18ad4951-a3a2-4f03-b16c-6828ebdb6172\" data-root-id=\"38136\"></div>\n"
      ]
     },
     "metadata": {},
     "output_type": "display_data"
    },
    {
     "data": {
      "application/javascript": [
       "(function(root) {\n",
       "  function embed_document(root) {\n",
       "    \n",
       "  var docs_json = {\"5d96c39e-45f6-4133-a50f-993484855b46\":{\"roots\":{\"references\":[{\"attributes\":{\"children\":[{\"id\":\"38106\",\"type\":\"Dropdown\"},{\"id\":\"38110\",\"subtype\":\"Figure\",\"type\":\"Plot\"}]},\"id\":\"38136\",\"type\":\"Column\"},{\"attributes\":{},\"id\":\"38120\",\"type\":\"BasicTicker\"},{\"attributes\":{},\"id\":\"38800\",\"type\":\"CategoricalTickFormatter\"},{\"attributes\":{\"ticker\":{\"id\":\"38120\",\"type\":\"BasicTicker\"}},\"id\":\"38123\",\"type\":\"Grid\"},{\"attributes\":{\"fill_color\":{\"value\":\"#1f77b4\"},\"height\":{\"value\":0.9},\"line_color\":{\"value\":\"#1f77b4\"},\"right\":{\"field\":\"counts\"},\"y\":{\"field\":\"chords\"}},\"id\":\"38130\",\"type\":\"HBar\"},{\"attributes\":{\"callback\":null,\"icon\":null,\"js_property_callbacks\":{\"change:value\":[{\"id\":\"38109\",\"type\":\"CustomJS\"}]},\"label\":\"Chord\",\"menu\":[[\"D\",\"D\"],[\"A\",\"A\"],[\"C\",\"C\"],[\"G\",\"G\"],[\"G6\",\"G6\"],[\"C/E\",\"C/E\"],[\"D/C\",\"D/C\"],[\"D/B\",\"D/B\"],[\"D/A\",\"D/A\"],[\"Dsus4\",\"Dsus4\"],[\"E\",\"E\"],[\"C#m7\",\"C#m7\"],[\"F#m7\",\"F#m7\"],[\"B7\",\"B7\"],[\"G#7\",\"G#7\"],[\"F\",\"F\"],[\"Am\",\"Am\"],[\"A7\",\"A7\"],[\"Dm\",\"Dm\"],[\"G7\",\"G7\"],[\"Em\",\"Em\"],[\"G#\",\"G#\"],[\"D6\",\"D6\"],[\"Dm6\",\"Dm6\"],[\"E7sus4\",\"E7sus4\"],[\"E7\",\"E7\"],[\"F#m\",\"F#m\"],[\"A/F#\",\"A/F#\"],[\"A6\",\"A6\"],[\"B7sus4\",\"B7sus4\"],[\" E\",\" E\"],[\"Bm\",\"Bm\"],[\"Bm/A\",\"Bm/A\"],[\"F#7sus4\",\"F#7sus4\"],[\"F#\",\"F#\"],[\"Bm/G\",\"Bm/G\"],[\"Bm/F#\",\"Bm/F#\"],[\"B\",\"B\"],[\"G/D\",\"G/D\"],[\"D7\",\"D7\"],[\"Asus4\",\"Asus4\"],[\"F#m7/B\",\"F#m7/B\"],[\"B9\",\"B9\"],[\"Bm6\",\"Bm6\"],[\"C#m\",\"C#m\"],[\"F#7\",\"F#7\"],[\"B/A#\",\"B/A#\"],[\"G#m7\",\"G#m7\"],[\"B/F#\",\"B/F#\"],[\"Bm7\",\"Bm7\"],[\"G#m7b5\",\"G#m7b5\"],[\"Gmaj7\",\"Gmaj7\"],[\"F#sus4\",\"F#sus4\"],[\"A/C#\",\"A/C#\"],[\"B/D#\",\"B/D#\"],[\"Bbm7\",\"Bbm7\"],[\"Eb6\",\"Eb6\"],[\"Bdim7/D\",\"Bdim7/D\"],[\"Bdim7\",\"Bdim7\"],[\"Fm\",\"Fm\"],[\"Ab7\",\"Ab7\"],[\"Db\",\"Db\"],[\"C7\",\"C7\"],[\"Fm/C\",\"Fm/C\"],[\"Caug\",\"Caug\"],[\"Fm7\",\"Fm7\"],[\"Dm7b5/F\",\"Dm7b5/F\"],[\"Bbm/F\",\"Bbm/F\"],[\"Ddim\",\"Ddim\"],[\"Bb\",\"Bb\"],[\"Dsus2\",\"Dsus2\"],[\"Daug\",\"Daug\"],[\"G/A\",\"G/A\"],[\"Ebm\",\"Ebm\"],[\"Bbm\",\"Bbm\"],[\"Fdim7\",\"Fdim7\"],[\"Gm\",\"Gm\"],[\"Em7\",\"Em7\"],[\"D9\",\"D9\"],[\"Gmaj\",\"Gmaj\"],[\"Em6\",\"Em6\"],[\"Cm\",\"Cm\"],[\"Am7\",\"Am7\"],[\"Gm7\",\"Gm7\"],[\"Gaug\",\"Gaug\"],[\"Ab\",\"Ab\"],[\"F7\",\"F7\"],[\"Abaug\",\"Abaug\"],[\"Esus4\",\"Esus4\"],[\"Fmaj7\",\"Fmaj7\"],[\"F#m7b5\",\"F#m7b5\"],[\"Am/F#\",\"Am/F#\"],[\"A/G\",\"A/G\"],[\"D/Bb\",\"D/Bb\"],[\"A/D\",\"A/D\"],[\"Gm7/B\",\"Gm7/B\"],[\"Gm7/Bb\",\"Gm7/Bb\"],[\"D5\",\"D5\"],[\"C#\",\"C#\"],[\"G#m\",\"G#m\"],[\"Eb\",\"Eb\"],[\"D/F#\",\"D/F#\"],[\"D7/A\",\"D7/A\"],[\"Bbaug\",\"Bbaug\"],[\"Edim\",\"Edim\"],[\"C#7\",\"C#7\"],[\"A7sus4\",\"A7sus4\"],[\"Faug\",\"Faug\"],[\"D7sus4\",\"D7sus4\"],[\"Fadd9/D\",\"Fadd9/D\"],[\"F6add9/A\",\"F6add9/A\"],[\"F6add9/C\",\"F6add9/C\"],[\"Fadd9\",\"Fadd9\"],[\"C6\",\"C6\"],[\"Dm7\",\"Dm7\"],[\"F/D\",\"F/D\"],[\"Cadd9\",\"Cadd9\"],[\"F6add9\",\"F6add9\"],[\"G7sus4\",\"G7sus4\"],[\"Cmaj7\",\"Cmaj7\"],[\"C+9\",\"C+9\"],[\"Bm9\",\"Bm9\"],[\"F6\",\"F6\"],[\"Am7/G\",\"Am7/G\"],[\"G7/F\",\"G7/F\"],[\"C6/9\",\"C6/9\"],[\"Em(maj7)\",\"Em(maj7)\"],[\"Em(maj7)/D#\",\"Em(maj7)/D#\"],[\"Em7/D\",\"Em7/D\"],[\"Em6/C#\",\"Em6/C#\"],[\"B5\",\"B5\"],[\"E9\",\"E9\"],[\"B7-9\",\"B7-9\"],[\"C/B\",\"C/B\"],[\"Csus4\",\"Csus4\"],[\"G/B\",\"G/B\"],[\"G13\",\"G13\"],[\"C(7)\",\"C(7)\"],[\"C#m/G#\",\"C#m/G#\"],[\"A/E\",\"A/E\"],[\"Asus2\",\"Asus2\"],[\"C#dim\",\"C#dim\"],[\"D#dim\",\"D#dim\"],[\"Dbdim\",\"Dbdim\"],[\"Em/Eb\",\"Em/Eb\"],[\"Bb6\",\"Bb6\"],[\"Dm/C\",\"Dm/C\"],[\"Em/G\",\"Em/G\"],[\"D#m7b5\",\"D#m7b5\"],[\"G#7/D#\",\"G#7/D#\"],[\"A13\",\"A13\"],[\"A9\",\"A9\"],[\"F#/C#\",\"F#/C#\"],[\"D#\",\"D#\"],[\"Gadd9\",\"Gadd9\"],[\"D/C#\",\"D/C#\"],[\"\",\"\"],[\"C/G\",\"C/G\"],[\"Bbdim\",\"Bbdim\"],[\"G7/B\",\"G7/B\"],[\"E+5\",\"E+5\"],[\"Gsus4\",\"Gsus4\"],[\"Csus\",\"Csus\"],[\"C+\",\"C+\"],[\"Bbadd9\",\"Bbadd9\"],[\"Fm6\",\"Fm6\"],[\"E6\",\"E6\"],[\"Emadd9\",\"Emadd9\"],[\"Em/D\",\"Em/D\"],[\"Cmaj7/E\",\"Cmaj7/E\"],[\"D-\",\"D-\"],[\"E-\",\"E-\"],[\"G-\",\"G-\"],[\"A-\",\"A-\"],[\"A7#5\",\"A7#5\"],[\"G+\",\"G+\"],[\"Amaj7/B\",\"Amaj7/B\"],[\"F#m/B\",\"F#m/B\"],[\"H\",\"H\"],[\"E/B\",\"E/B\"],[\"B6\",\"B6\"],[\"G9\",\"G9\"],[\"Dadd9\",\"Dadd9\"],[\"A7sus\",\"A7sus\"],[\"Eaug\",\"Eaug\"],[\"G/F#\",\"G/F#\"],[\"F/G\",\"F/G\"],[\"Cm/G\",\"Cm/G\"],[\"F#dim7\",\"F#dim7\"],[\"Bsus4\",\"Bsus4\"],[\"Am6\",\"Am6\"],[\"Bb7\",\"Bb7\"],[\"D#7\",\"D#7\"],[\"Am11\",\"Am11\"],[\"D7sus\",\"D7sus\"],[\"Am7/D\",\"Am7/D\"],[\"Cm7\",\"Cm7\"],[\"Dmadd9\",\"Dmadd9\"],[\"Dm9\",\"Dm9\"],[\"FM7\",\"FM7\"],[\"Gsus\",\"Gsus\"],[\"B7/D#\",\"B7/D#\"],[\"Am/E\",\"Am/E\"],[\"F/C\",\"F/C\"],[\"Adim7\",\"Adim7\"],[\"Abdim7\",\"Abdim7\"],[\"Gdim7\",\"Gdim7\"],[\"G#dim7\",\"G#dim7\"],[\"Db7\",\"Db7\"],[\"F/A\",\"F/A\"],[\"E7b9\",\"E7b9\"],[\"E7/G#\",\"E7/G#\"],[\"Dm/F\",\"Dm/F\"],[\"C5\",\"C5\"],[\"Aaug\",\"Aaug\"],[\"G5\",\"G5\"],[\"G#5\",\"G#5\"],[\"E5\",\"E5\"],[\"D/E\",\"D/E\"],[\"Aadd9\",\"Aadd9\"],[\"Asus\",\"Asus\"],[\"Dmaj7\",\"Dmaj7\"],[\"Am/G#\",\"Am/G#\"],[\"D#m\",\"D#m\"],[\"D7sus2\",\"D7sus2\"],[\"Am/D\",\"Am/D\"],[\"Eb7\",\"Eb7\"],[\"C#m7b5\",\"C#m7b5\"],[\"E/A#\",\"E/A#\"],[\"E/A\",\"E/A\"],[\"C7sus4\",\"C7sus4\"],[\"Bb/A\",\"Bb/A\"],[\"Amaj9\",\"Amaj9\"],[\"Amaj7\",\"Amaj7\"],[\"A(b9)\",\"A(b9)\"],[\"D#+5\",\"D#+5\"],[\"Emaj7\",\"Emaj7\"],[\"Am/G\",\"Am/G\"],[\"G#aug\",\"G#aug\"],[\"D7/F#\",\"D7/F#\"],[\"C9\",\"C9\"],[\"A/F\",\"A/F\"],[\"Bsus\",\"Bsus\"],[\"C/A\",\"C/A\"],[\"Gm/Bb\",\"Gm/Bb\"],[\"F#M\",\"F#M\"],[\"C7sus\",\"C7sus\"],[\"A/B\",\"A/B\"],[\"G#m/B\",\"G#m/B\"],[\"E6/B\",\"E6/B\"],[\"Bb/C\",\"Bb/C\"],[\"A5\",\"A5\"],[\"A4\",\"A4\"],[\"Adim\",\"Adim\"],[\"Cm6\",\"Cm6\"],[\"C/D\",\"C/D\"],[\"C#7/F\",\"C#7/F\"],[\"A6/E\",\"A6/E\"],[\"A(v)\",\"A(v)\"],[\"E+\",\"E+\"],[\"Abm\",\"Abm\"],[\"Gbm\",\"Gbm\"],[\"A#m\",\"A#m\"],[\"Ab6\",\"Ab6\"],[\"Abmaj7\",\"Abmaj7\"],[\"Bdim\",\"Bdim\"],[\"Cdim7\",\"Cdim7\"],[\"Ebdim7\",\"Ebdim7\"],[\"Gbdim7\",\"Gbdim7\"],[\"Gb\",\"Gb\"],[\"Bbdim7\",\"Bbdim7\"],[\"Dbdim7\",\"Dbdim7\"],[\"Edim7\",\"Edim7\"],[\"G11\",\"G11\"],[\"Cdim\",\"Cdim\"],[\"Fdim\",\"Fdim\"],[\"EB\",\"EB\"],[\"Eb/G\",\"Eb/G\"],[\"Eb/C\",\"Eb/C\"],[\"Am/C\",\"Am/C\"],[\"D7#9\",\"D7#9\"],[\"G7#9\",\"G7#9\"],[\"F#m7/E\",\"F#m7/E\"],[\"Fadd2/G\",\"Fadd2/G\"],[\"F#mmaj7\",\"F#mmaj7\"],[\"F#maj7\",\"F#maj7\"],[\"A#5\",\"A#5\"],[\"C#5\",\"C#5\"],[\"C11\",\"C11\"],[\"C7+9\",\"C7+9\"],[\"Gmmaj7\",\"Gmmaj7\"],[\"C7+5\",\"C7+5\"],[\"As4\",\"As4\"],[\"Gs4\",\"Gs4\"],[\"Gm6\",\"Gm6\"],[\"Bm7b5\",\"Bm7b5\"],[\"G/F\",\"G/F\"],[\"Gmaj9\",\"Gmaj9\"],[\"D13\",\"D13\"],[\"Csus2\",\"Csus2\"],[\"E/D\",\"E/D\"],[\"E/C#\",\"E/C#\"],[\"G6/E\",\"G6/E\"]]},\"id\":\"38106\",\"type\":\"Dropdown\"},{\"attributes\":{\"data_source\":{\"id\":\"38108\",\"type\":\"ColumnDataSource\"},\"glyph\":{\"id\":\"38130\",\"type\":\"HBar\"},\"hover_glyph\":null,\"muted_glyph\":null,\"nonselection_glyph\":{\"id\":\"38131\",\"type\":\"HBar\"},\"selection_glyph\":null,\"view\":{\"id\":\"38133\",\"type\":\"CDSView\"}},\"id\":\"38132\",\"type\":\"GlyphRenderer\"},{\"attributes\":{},\"id\":\"38115\",\"type\":\"LinearScale\"},{\"attributes\":{\"active_drag\":\"auto\",\"active_inspect\":\"auto\",\"active_multi\":null,\"active_scroll\":\"auto\",\"active_tap\":\"auto\"},\"id\":\"38128\",\"type\":\"Toolbar\"},{\"attributes\":{\"fill_alpha\":{\"value\":0.1},\"fill_color\":{\"value\":\"#1f77b4\"},\"height\":{\"value\":0.9},\"line_alpha\":{\"value\":0.1},\"line_color\":{\"value\":\"#1f77b4\"},\"right\":{\"field\":\"counts\"},\"y\":{\"field\":\"chords\"}},\"id\":\"38131\",\"type\":\"HBar\"},{\"attributes\":{\"formatter\":{\"id\":\"38798\",\"type\":\"BasicTickFormatter\"},\"ticker\":{\"id\":\"38120\",\"type\":\"BasicTicker\"}},\"id\":\"38119\",\"type\":\"LinearAxis\"},{\"attributes\":{},\"id\":\"38803\",\"type\":\"Selection\"},{\"attributes\":{\"level\":\"glyph\",\"source\":{\"id\":\"38108\",\"type\":\"ColumnDataSource\"},\"text\":{\"field\":\"counts\"},\"text_font_size\":{\"value\":\"12px\"},\"x\":{\"field\":\"counts\"},\"x_offset\":{\"value\":10},\"y\":{\"field\":\"chords\"},\"y_offset\":{\"value\":-6}},\"id\":\"38134\",\"type\":\"LabelSet\"},{\"attributes\":{\"source\":{\"id\":\"38108\",\"type\":\"ColumnDataSource\"}},\"id\":\"38133\",\"type\":\"CDSView\"},{\"attributes\":{\"args\":{\"next_chord_data\":{\"A\":{\"A\":229,\"A(b9)\":4,\"A(v)\":1,\"A/C#\":6,\"A/E\":1,\"A/F#\":2,\"A/G\":4,\"A5\":1,\"A6\":8,\"A7\":116,\"Aadd9\":8,\"Ab\":1,\"Adim\":3,\"Am\":14,\"Am/G\":1,\"Am7\":1,\"Amaj7\":3,\"Asus\":4,\"Asus2\":5,\"Asus4\":2,\"B\":105,\"B6\":4,\"B7\":44,\"B7/D#\":1,\"Bb\":2,\"Bb7\":1,\"Bm\":35,\"Bm7\":2,\"Bm9\":1,\"Bsus\":1,\"C\":25,\"C#7\":3,\"C#m\":35,\"C#m/G#\":10,\"C/G\":1,\"Cdim7\":1,\"Cm\":2,\"D\":538,\"D#m\":2,\"D/A\":10,\"D6\":7,\"D7\":52,\"D9\":4,\"Dm\":31,\"Dmaj7\":1,\"Dsus4\":15,\"E\":369,\"E/D\":1,\"E7\":112,\"E7b9\":2,\"E9\":4,\"Eaug\":3,\"Em\":27,\"Em/D\":3,\"Em7\":9,\"F\":7,\"F#\":6,\"F#7\":26,\"F#m\":87,\"F#m7\":8,\"G\":76,\"G#\":4,\"G#7\":3,\"G#m\":5,\"G#m7\":4,\"G/A\":3,\"G11\":1,\"G6\":1,\"G7\":8,\"Gmaj7\":1,\"Gs4\":5,\"H\":6},\"A#5\":{\"B5\":1},\"A#m\":{\"C\":3,\"G#7\":1},\"A(b9)\":{\"C\":1,\"E\":3},\"A(v)\":{\"A(v)\":2,\"Bm\":7,\"E\":3},\"A/B\":{\"G#m/B\":2},\"A/C#\":{\"B/F#\":1,\"D\":6},\"A/D\":{\"G/D\":1},\"A/E\":{\"A/F\":1,\"D\":2,\"E\":2},\"A/F\":{\"A/F#\":1},\"A/F#\":{\"A/F\":1,\"F#m\":2},\"A/G\":{\"C\":2,\"D/F#\":1,\"Fmaj7\":1},\"A13\":{\"D\":9},\"A4\":{\"A\":1,\"A5\":3},\"A5\":{\"A#5\":1,\"A4\":4,\"A5\":1,\"E5\":12},\"A6\":{\"A\":3,\"Am/D\":2,\"B\":9,\"Bm\":1,\"E\":3,\"E6\":2,\"E7\":1,\"G6\":1},\"A6/E\":{\"Dmaj7\":7},\"A7\":{\"A\":7,\"A13\":2,\"A7\":11,\"A7sus\":5,\"Am\":3,\"Asus\":3,\"Asus4\":12,\"B\":2,\"B7\":5,\"B7sus4\":3,\"Bb\":3,\"Bm\":4,\"C\":13,\"C#m\":1,\"C7\":3,\"Cm\":6,\"Cm7\":1,\"D\":165,\"D6\":1,\"D7\":111,\"D7sus4\":7,\"D9\":8,\"Dm\":43,\"Dmaj7\":1,\"E\":32,\"E7\":53,\"Eb7\":1,\"Em\":10,\"Em7\":1,\"F\":12,\"F#\":1,\"F#7\":2,\"F#M\":1,\"F#m\":5,\"F7\":1,\"G\":34,\"G#7\":1,\"G6\":1,\"G7\":15},\"A7#5\":{\"A\":1,\"Bm\":4},\"A7sus\":{\"A7\":2,\"D\":4,\"D13\":1,\"F\":1},\"A7sus4\":{\"A\":3},\"A9\":{\"A13\":4,\"F#\":1},\"Aadd9\":{\"Asus\":8},\"Aaug\":{\"Am7\":3,\"Dm\":3},\"Ab\":{\"Ab\":2,\"Abmaj7\":1,\"Bb\":4,\"Bbm\":5,\"C\":4,\"Cm\":1,\"Cm/G\":1,\"Eb\":1,\"Eb/G\":1,\"G\":3,\"G7\":2},\"Ab6\":{\"Ab\":2,\"Cm\":1},\"Ab7\":{\"Ab7\":2,\"Db\":3,\"F\":2,\"F7\":4,\"G7\":2},\"Abaug\":{\"Caug\":1},\"Abdim7\":{\"Gdim7\":2},\"Abm\":{\"C\":2,\"D\":2},\"Abmaj7\":{\"Ab6\":1},\"Adim\":{\"A\":2,\"Am\":4,\"F\":1},\"Adim7\":{\"Abdim7\":2,\"Adim7\":1},\"Am\":{\"A\":3,\"A7\":2,\"Ab\":2,\"Adim\":4,\"Am\":35,\"Am/C\":2,\"Am/G\":13,\"Am/G#\":2,\"Am7\":20,\"Am7/G\":3,\"Asus2\":3,\"B\":4,\"B7\":11,\"Bm\":21,\"Bm7\":1,\"C\":92,\"C/G\":17,\"C6\":10,\"C7\":5,\"Cmaj7\":5,\"D\":13,\"D7\":64,\"Dm\":26,\"Dm7\":21,\"Dm9\":5,\"Dsus2\":1,\"E\":18,\"E+5\":1,\"E7\":8,\"E7b9\":2,\"Em\":42,\"Em7\":26,\"Esus4\":5,\"F\":58,\"F#\":2,\"F#m\":2,\"F#m7\":3,\"F6\":2,\"F7\":7,\"Fm\":4,\"Fmaj7\":7,\"G\":63,\"G#aug\":1,\"G#m\":5,\"G/B\":1,\"G7\":7,\"G7/F\":2,\"Gaug\":4,\"Gm\":1,\"Gm7\":2,\"Gsus\":1},\"Am/C\":{\"F\":2},\"Am/D\":{\"C\":1,\"Cm\":2},\"Am/E\":{\"Dm\":1},\"Am/F#\":{\"Fmaj7\":2,\"G\":2},\"Am/G\":{\"D\":1,\"F\":2,\"F#m7b5\":11},\"Am/G#\":{\"C/G\":2},\"Am11\":{\"D7sus\":1,\"D7sus4\":1},\"Am6\":{\"E\":1,\"Emadd9\":2,\"F#\":4},\"Am7\":{\"Am11\":2,\"Am6\":2,\"Am7\":18,\"Am7/D\":2,\"Am7/G\":6,\"B7\":6,\"Bb\":1,\"Bm\":1,\"Bm7\":6,\"C\":3,\"C/G\":4,\"C6\":1,\"C7\":1,\"D\":7,\"D7\":25,\"D7sus4\":17,\"Dm\":2,\"Dm7\":8,\"Dm9\":4,\"Dsus2\":1,\"Dsus4\":1,\"Em\":2,\"F\":5,\"F6\":4,\"F7\":1,\"G\":10,\"G/B\":8,\"Gm7\":1},\"Am7/D\":{\"A7\":1,\"Dm7\":2},\"Am7/G\":{\"Am6\":3,\"Em7\":3,\"F\":5,\"F6\":1},\"Amaj7\":{\"A7\":3,\"C#m\":4,\"E\":6},\"Amaj7/B\":{\"E\":3,\"Esus4\":3},\"Amaj9\":{\"D6\":5},\"As4\":{\"A\":5,\"Asus4\":1},\"Asus\":{\"A\":15},\"Asus2\":{\"A\":4,\"Am7/D\":1,\"D\":1,\"Dmadd9\":3,\"G\":1},\"Asus4\":{\"A\":3,\"A7\":10,\"F#7\":2,\"Gsus4\":1},\"B\":{\"A\":43,\"A/B\":1,\"Am\":6,\"B\":8,\"B/A#\":12,\"B/D#\":2,\"B5\":1,\"B7\":4,\"C\":10,\"C#\":7,\"C#m\":15,\"D\":3,\"E\":158,\"E/B\":3,\"E7\":7,\"Em\":42,\"Em7\":1,\"F#\":16,\"F#7\":9,\"F#m\":13,\"G\":5,\"G#7\":1,\"G#m\":4,\"Gm\":6},\"B/A#\":{\"G#m7\":12},\"B/D#\":{\"E\":2},\"B/F#\":{\"A7\":1,\"Bm7\":6,\"C#m7\":6},\"B5\":{\"A5\":7,\"B5\":1,\"Bb7\":7,\"C5\":1,\"Cmaj7\":2,\"E\":1,\"E5\":4},\"B6\":{\"A\":1,\"C#m\":4,\"E\":8,\"E6\":1,\"F\":3},\"B7\":{\"A\":20,\"A/B\":1,\"A7\":23,\"Am\":2,\"B\":1,\"B7\":11,\"B7-9\":1,\"Bb7\":3,\"Bm\":5,\"C\":9,\"C#7\":3,\"C#m\":8,\"C#m7\":3,\"C7\":3,\"D\":15,\"Dm7\":1,\"E\":152,\"E7\":52,\"E7sus4\":2,\"Em\":52,\"Em7\":2,\"F#\":2,\"F#7\":2,\"F#m\":7,\"F#m7\":7,\"G\":5,\"G5\":1,\"Gm7\":5},\"B7-9\":{\"Am\":1},\"B7/D#\":{\"A\":1},\"B7sus4\":{\"B7\":3},\"B9\":{\"Bm6\":1,\"E\":5,\"F#m7/B\":5},\"Bb\":{\"A\":2,\"A6\":1,\"A7\":14,\"Ab\":1,\"Am\":7,\"Am7\":1,\"Bb\":3,\"Bb/A\":4,\"Bb7\":2,\"Bbm\":2,\"Bm\":2,\"C\":37,\"C7\":14,\"Cdim\":3,\"D\":8,\"D#\":1,\"D/A\":4,\"D7\":2,\"Dm\":2,\"Eb\":3,\"F\":28,\"F/A\":2,\"F/C\":1,\"Fm\":1,\"G\":4,\"G5\":4,\"G7\":9,\"Gm\":6},\"Bb/A\":{\"Gm\":4},\"Bb/C\":{\"C5\":20},\"Bb6\":{\"A7\":2,\"C\":2},\"Bb7\":{\"A7\":1,\"Aaug\":7,\"Am\":2,\"Bbm7\":4,\"D#7\":2,\"D7\":1,\"E+\":1,\"E9\":1,\"Eb\":1,\"Eb7\":1,\"G7\":8,\"Gm\":2},\"Bbadd9\":{\"F\":6,\"Fm7\":16},\"Bbaug\":{\"D\":4},\"Bbdim\":{\"Bbm\":3,\"G7/B\":2},\"Bbdim7\":{\"D7\":1,\"Dbdim7\":1},\"Bbm\":{\"Bbdim\":3,\"Bbm\":3,\"Eb7\":7,\"Ebm\":1,\"F\":9},\"Bbm/F\":{\"C\":3},\"Bbm7\":{\"C\":1,\"Eb6\":4,\"F\":8},\"Bdim\":{\"Bm\":1},\"Bdim7\":{\"C\":7},\"Bdim7/D\":{\"Bdim7\":1,\"C\":1},\"Bm\":{\"A\":16,\"A(v)\":5,\"A7\":1,\"Am\":30,\"Am7\":10,\"B7\":2,\"Bb\":5,\"Bbaug\":4,\"Bdim\":1,\"Bm\":3,\"Bm/A\":13,\"C\":18,\"C#m\":10,\"Cmaj7\":4,\"D\":60,\"D7\":9,\"D7/A\":3,\"Dm6\":2,\"Dsus2\":3,\"Dsus4\":1,\"E\":45,\"E7\":31,\"E9\":2,\"Em\":60,\"F\":5,\"F#\":4,\"F#m\":20,\"F#m7/B\":1,\"G\":41,\"G/D\":4,\"G7\":21,\"Gm\":4,\"Gm6\":10,\"Gmaj\":3},\"Bm/A\":{\"Bm/G\":4,\"F#7sus4\":1,\"G\":8},\"Bm/F#\":{\"Bm\":2,\"D\":2,\"E\":8,\"G\":1},\"Bm/G\":{\"Bm/F#\":5},\"Bm6\":{\"Bm7\":1,\"C#m\":4,\"F#m\":2},\"Bm7\":{\"A\":4,\"Am\":6,\"Am7\":10,\"Bm6\":1,\"Bm7\":1,\"C#7\":2,\"C#m7\":2,\"Cm6\":2,\"Cmaj7\":2,\"D\":2,\"D7\":4,\"E\":3,\"E7\":24,\"Em\":3,\"F#m\":1,\"F#m7\":7,\"G\":3,\"G#m7b5\":6},\"Bm7b5\":{\"E7\":4},\"Bm9\":{\"F7\":1},\"Bsus\":{\"A\":2},\"Bsus4\":{\"Am\":1,\"B\":2,\"C#m\":1},\"C\":{\"A\":17,\"A7\":16,\"Ab7\":1,\"Am\":134,\"Am7\":10,\"B\":7,\"B7\":19,\"Bb\":21,\"Bb6\":4,\"Bb7\":1,\"Bbdim\":2,\"Bbdim7\":1,\"Bdim7\":4,\"Bm\":8,\"Bsus\":1,\"C\":104,\"C#dim\":5,\"C(7)\":1,\"C/B\":35,\"C/E\":4,\"C/G\":5,\"C11\":7,\"C6\":4,\"C6/9\":1,\"C7\":26,\"C9\":5,\"Cdim\":6,\"Cm\":24,\"Cm7\":1,\"Cmaj7\":6,\"Csus\":2,\"Csus2\":5,\"Csus4\":19,\"D\":184,\"D#+5\":1,\"D/C\":2,\"D5\":1,\"D7\":39,\"D7sus4\":1,\"Dm\":12,\"Dm7\":1,\"Dsus4\":7,\"E\":30,\"E/D\":1,\"E7\":14,\"Em\":38,\"Em7\":4,\"F\":139,\"F#m7\":4,\"F6\":5,\"F7\":5,\"FM7\":3,\"Fadd9\":21,\"Fm\":22,\"Fm6\":6,\"Fmaj7\":6,\"G\":385,\"G/B\":16,\"G11\":1,\"G6\":3,\"G7\":75,\"Gm\":2},\"C#\":{\"Am7\":1,\"B\":3,\"C#\":1,\"C#m\":2,\"D#\":7,\"E\":2,\"F\":1,\"F#\":3,\"F#7\":2,\"G#\":2},\"C#5\":{\"D5\":1},\"C#7\":{\"A\":2,\"B\":1,\"B7\":1,\"Bm\":3,\"C#dim\":1,\"C7\":3,\"D\":3,\"D7\":2,\"F#\":4,\"F#7\":14,\"F#m\":1},\"C#7/F\":{\"A6/E\":7},\"C#dim\":{\"A\":1,\"C\":4,\"D\":8},\"C#m\":{\"A\":41,\"A7\":1,\"A9\":4,\"Am\":1,\"B\":1,\"B7\":3,\"Bb\":2,\"Bm\":17,\"C#m\":7,\"C#m7\":1,\"D\":3,\"D#m7b5\":6,\"E\":57,\"E/B\":5,\"E7\":1,\"F#\":3,\"F#7\":15,\"F#m\":51,\"F#m7\":6,\"F#m7b5\":1,\"G#\":6,\"G#7\":6,\"G#m\":4},\"C#m/G#\":{\"Bm/F#\":8,\"F#m7\":2},\"C#m7\":{\"A\":1,\"B7\":1,\"E\":4,\"F#\":7,\"F#7\":2,\"F#m\":2,\"F#m7\":4,\"G#m7\":1},\"C#m7b5\":{\"G\":2},\"C+\":{\"Fm7\":7},\"C+9\":{\"Cmaj7\":1},\"C/A\":{\"C/G\":1},\"C/B\":{\"Am\":6,\"Am7\":24,\"Asus2\":1,\"C/A\":1,\"D\":1,\"G7\":2},\"C/D\":{\"G\":1},\"C/E\":{\"C\":10,\"D\":2,\"Dm\":4,\"Dm7\":16,\"Em6\":5,\"G\":4},\"C/G\":{\"Am/F#\":2,\"Am6\":1,\"Bm\":1,\"Bm7\":1,\"Bsus4\":1,\"C\":4,\"D\":3,\"D7/F#\":1,\"Em\":1,\"F\":13,\"G\":32,\"G7\":3},\"C11\":{\"C\":6,\"C11\":1,\"D9\":1,\"G\":10},\"C5\":{\"B5\":7,\"Bb/C\":20,\"C#5\":1,\"C5\":3},\"C6\":{\"C7\":3,\"D\":3,\"D7sus4\":1,\"Em\":3,\"F\":6,\"G\":3},\"C7\":{\"A7\":1,\"B7\":4,\"Bb\":7,\"C\":9,\"C#7\":2,\"C7\":12,\"C7+5\":2,\"C7sus4\":4,\"D\":4,\"D#\":1,\"D7\":9,\"Db7\":1,\"Dm\":8,\"Dm7\":1,\"E\":1,\"E6\":1,\"E7\":2,\"F\":58,\"F#7\":1,\"F7\":20,\"Fm\":3,\"G\":28,\"G7\":20,\"Gm7\":5},\"C7+5\":{\"F\":2},\"C7+9\":{\"F\":8},\"C7sus\":{\"Bb\":1},\"C7sus4\":{\"C7\":4},\"C9\":{\"D\":1,\"F\":4,\"G\":3},\"Cadd9\":{\"Bm\":8,\"Cadd9\":3,\"Cmaj7\":1,\"D\":8,\"F6\":5,\"F6add9\":1,\"G\":11},\"Caug\":{\"Fm7\":3},\"Cdim\":{\"C\":3,\"Dm\":6},\"Cdim7\":{\"Ebdim7\":1},\"Cm\":{\"A7\":3,\"Ab\":2,\"B\":6,\"C\":1,\"Cm\":6,\"D\":6,\"D7\":14,\"F\":4,\"Fm\":5,\"G\":26,\"G/B\":5,\"Gm\":1},\"Cm/G\":{\"F#dim7\":1},\"Cm6\":{\"Bm7\":2},\"Cm7\":{\"F\":1,\"F/C\":1,\"Fadd9\":1,\"Fm7\":1},\"Cmaj7\":{\"A7\":1,\"Am7\":3,\"B\":1,\"B5\":1,\"Bm\":2,\"C\":1,\"C+9\":1,\"Cadd9\":1,\"Cmaj7\":3,\"Em\":4,\"Fmaj7\":2,\"G\":14,\"G6\":1,\"Gm7\":3,\"Gmaj7\":3},\"Cmaj7/E\":{\"Em\":6},\"Csus\":{\"C\":2},\"Csus2\":{\"C\":5},\"Csus4\":{\"C\":21,\"C7\":2},\"D\":{\"A\":486,\"A#m\":1,\"A(v)\":1,\"A/E\":2,\"A6\":1,\"A7\":33,\"A7sus\":1,\"A7sus4\":3,\"Ab\":1,\"Abm\":2,\"Am\":7,\"Am7\":2,\"B\":9,\"B5\":1,\"B7\":22,\"Bb\":3,\"Bm\":112,\"Bm7\":20,\"C\":88,\"C#dim\":4,\"C#m\":6,\"C/E\":3,\"Cadd9\":8,\"Cm\":1,\"Cm7\":1,\"D\":107,\"D#dim\":5,\"D-\":1,\"D/A\":2,\"D/C\":52,\"D/C#\":2,\"D/F#\":1,\"D5\":3,\"D7\":45,\"D9\":3,\"Dadd9\":1,\"Daug\":4,\"Db\":1,\"Dbdim\":1,\"Ddim\":6,\"Dm\":19,\"Dmaj7\":2,\"Dsus2\":19,\"Dsus4\":36,\"E\":144,\"E7\":37,\"Eb\":4,\"Ebdim7\":1,\"Em\":61,\"Em7\":8,\"Esus4\":3,\"F\":30,\"F#\":8,\"F#/C#\":3,\"F#7\":4,\"F#m\":22,\"F#m7\":1,\"F7\":2,\"Fm\":3,\"G\":388,\"G/B\":6,\"G/D\":1,\"G6\":7,\"G7\":13,\"Gadd9\":1,\"Gm\":6,\"Gm7\":2,\"Gmaj7\":8,\"Gmaj9\":1},\"D#\":{\"A\":1,\"C#\":2,\"D#\":4,\"F\":6,\"G#\":10},\"D#+5\":{\"D6\":3},\"D#7\":{\"C7\":2,\"G#\":1},\"D#dim\":{\"Em\":5},\"D#m\":{\"A\":1,\"B7\":2,\"E\":1,\"G#m\":1},\"D#m7b5\":{\"G#7/D#\":6},\"D-\":{\"E-\":1},\"D/A\":{\"A\":13,\"Dsus4\":1,\"E\":1,\"F\":1,\"G\":1,\"G#m7\":4,\"G/A\":1},\"D/B\":{\"D/A\":2,\"D/Bb\":16,\"E\":2},\"D/Bb\":{\"D\":16},\"D/C\":{\"C\":7,\"D/B\":20,\"Eb/C\":1,\"G/B\":4,\"Gm7/B\":24},\"D/C#\":{\"D/C\":2},\"D/E\":{\"E7\":1},\"D/F#\":{\"Bm\":1,\"D7\":1,\"D7/A\":3,\"Em\":8,\"G\":4},\"D13\":{\"E\":1},\"D5\":{\"C\":2,\"D\":1,\"D6\":11,\"D9\":1,\"Dsus4\":1,\"E5\":2},\"D6\":{\"B7\":4,\"C#7\":3,\"D\":1,\"D5\":9,\"Dm6\":2,\"G5\":2,\"Gmaj7\":5},\"D7\":{\"A\":62,\"A7\":64,\"Am\":16,\"Am7\":8,\"As4\":5,\"B7\":6,\"C\":13,\"C#7\":2,\"C7\":12,\"Cadd9\":5,\"D\":9,\"D7\":37,\"D7#9\":1,\"D7/A\":1,\"Dm7\":1,\"E\":3,\"E7\":9,\"Eb7\":2,\"Em\":14,\"Em7\":2,\"F\":19,\"F#m\":1,\"F7\":4,\"G\":214,\"G/F\":2,\"G6\":4,\"G7\":75,\"Gm\":2},\"D7#9\":{\"G7#9\":1},\"D7/A\":{\"C\":1,\"D7\":1,\"D7/A\":1,\"Em\":1,\"G\":9},\"D7/F#\":{\"F\":1},\"D7sus\":{\"D7\":1},\"D7sus2\":{\"D\":2},\"D7sus4\":{\"D7\":17,\"Dm7\":6,\"Fadd9/D\":2,\"G\":8},\"D9\":{\"A\":10,\"B7\":1,\"C11\":6,\"D\":2,\"D9\":1,\"E\":2,\"G\":8},\"Dadd9\":{\"A7\":2,\"A7sus\":1,\"G6\":2},\"Daug\":{\"C\":2,\"G\":2},\"Db\":{\"Ab\":1,\"Bbm\":1,\"C7\":3},\"Db7\":{\"F\":1,\"F/C\":1},\"Dbdim\":{\"C\":1},\"Dbdim7\":{\"Edim7\":1},\"Ddim\":{\"A9\":1,\"Bdim7\":2,\"C#m\":4,\"F#/C#\":1},\"Dm\":{\"A\":34,\"A7\":22,\"Am\":16,\"Am/E\":1,\"Bb\":21,\"Bbm\":2,\"C\":9,\"D\":2,\"Dm\":15,\"Dm/C\":11,\"Dm/F\":7,\"E\":12,\"E7\":7,\"Em\":6,\"F\":6,\"F/A\":1,\"G\":42,\"G/D\":3,\"G13\":2,\"G6\":1,\"G7\":27,\"Gaug\":1,\"Gm\":12,\"Gsus4\":3},\"Dm/C\":{\"Bb\":11},\"Dm/F\":{\"E7b9\":7},\"Dm6\":{\"A\":4},\"Dm7\":{\"Am\":2,\"Asus2\":1,\"C\":24,\"C7sus\":1,\"D7sus2\":2,\"D7sus4\":3,\"Dm7\":12,\"F\":5,\"F/D\":1,\"G\":1,\"G7\":29,\"G7sus4\":2,\"Gm\":1,\"Gm7\":6},\"Dm7b5/F\":{\"Bbm/F\":3},\"Dm9\":{\"E7\":2,\"G7\":9},\"Dmadd9\":{\"G7\":3},\"Dmaj7\":{\"A\":13,\"Am7\":1,\"D\":3,\"D7\":2,\"Dmaj7\":7,\"E\":2},\"Dsus2\":{\"D\":16,\"D7\":2,\"Daug\":1,\"Dm\":2,\"E\":3,\"Esus4\":1,\"F#m\":1},\"Dsus4\":{\"A\":1,\"C\":9,\"D\":37,\"D5\":2,\"D7\":3,\"Dm\":6,\"Dsus2\":2,\"Em\":3},\"E\":{\"A\":513,\"A(v)\":3,\"A/C#\":1,\"A6\":15,\"A7\":13,\"Abm\":2,\"Am\":42,\"Am7\":1,\"Amaj7\":6,\"Amaj9\":5,\"B\":79,\"B6\":1,\"B7\":58,\"Bm\":18,\"Bm6\":3,\"Bsus4\":2,\"C\":30,\"C#7\":4,\"C#m\":77,\"C#m7\":6,\"D\":88,\"D#+5\":2,\"D#m\":2,\"D/E\":2,\"Dm\":1,\"E\":137,\"E+5\":3,\"E6\":3,\"E7\":54,\"Edim\":15,\"Em\":5,\"Esus4\":10,\"F\":2,\"F#\":7,\"F#7\":7,\"F#m\":48,\"F#m7\":9,\"F#m7/E\":2,\"Fm\":1,\"Fmaj7\":2,\"G\":55,\"G#\":5,\"G#7\":14,\"G#m\":41,\"G#m7\":2},\"E+\":{\"A\":4,\"E+\":2},\"E+5\":{\"A\":5},\"E-\":{\"G-\":1},\"E/A\":{\"E\":1},\"E/A#\":{\"E/A\":1},\"E/B\":{\"A7\":1,\"B\":1,\"E/A#\":1,\"F#\":5},\"E/C#\":{\"E\":1},\"E/D\":{\"E\":1,\"E/C#\":1},\"E5\":{\"A5\":6,\"B5\":10,\"B7\":3},\"E6\":{\"A\":2,\"B6\":1,\"B7\":1,\"E\":1,\"E6\":3,\"Eaug\":3,\"F#m7/E\":4,\"Fadd2/G\":2},\"E6/B\":{\"B7\":1},\"E7\":{\" E\":1,\"A\":139,\"A7\":87,\"Am\":42,\"Am6\":1,\"Am7\":1,\"Am7/G\":3,\"B\":2,\"B7\":43,\"Bm\":8,\"Bm7\":9,\"C\":5,\"C#7\":2,\"C#m\":4,\"D\":47,\"D7\":19,\"E\":8,\"E+\":2,\"E6\":3,\"E7\":53,\"Eb7\":3,\"F\":1,\"F#\":4,\"F#7\":3,\"F#m\":2,\"F7\":1,\"G\":13,\"G#\":4,\"G7\":1,\"Gmaj7\":1},\"E7/G#\":{\"Am7\":4,\"Dm\":1},\"E7b9\":{\"Am7\":1,\"C5\":7,\"Dm\":3,\"E7/G#\":1,\"E7b9\":7},\"E7sus4\":{\"E7\":2},\"E9\":{\"A\":1,\"D9\":4,\"E9\":1,\"G\":2},\"EB\":{\"Db\":1},\"Eaug\":{\"C#\":1,\"E7\":1,\"F#m\":3,\"G\":2},\"Eb\":{\"A\":2,\"Bb\":10,\"Bb7\":1,\"D\":6,\"E\":4,\"EB\":1,\"Fm\":3,\"G\":2,\"Gm\":1},\"Eb/C\":{\"F/C\":1},\"Eb/G\":{\"Cm7\":1},\"Eb6\":{\"Bdim7/D\":2,\"Ddim\":2},\"Eb7\":{\"A7\":1,\"Ab\":5,\"Ab6\":1,\"Bbm\":2,\"C7\":1,\"D7\":7,\"E7\":6,\"G7\":2},\"Ebdim7\":{\"E\":1,\"Gbdim7\":1},\"Ebm\":{\"D\":2},\"Edim\":{\"B\":15},\"Edim7\":{\"G\":1},\"Em\":{\"A\":58,\"A6\":2,\"A7\":49,\"Am\":75,\"Am7\":3,\"Asus4\":1,\"B\":9,\"B7\":25,\"Bm\":40,\"C\":60,\"C#m7b5\":2,\"C/E\":5,\"C6\":4,\"Cm\":10,\"Cmaj7\":1,\"D\":34,\"D7/A\":4,\"Dm\":3,\"Dm7\":2,\"Dm9\":2,\"E\":1,\"Eb\":2,\"Em\":42,\"Em(maj7)\":1,\"Em/D\":4,\"Em/Eb\":4,\"Em/G\":3,\"Em6\":3,\"Em7\":51,\"Emadd9\":2,\"Esus4\":2,\"F\":6,\"F#\":2,\"F#m\":12,\"Fadd9\":11,\"Fm\":24,\"Fm7\":1,\"G\":64,\"G/D\":1,\"G7/F\":6,\"Gaug\":1,\"Gbm\":2,\"Gm\":2},\"Em(maj7)\":{\"Em(maj7)/D#\":1},\"Em(maj7)/D#\":{\"Em7\":1},\"Em/D\":{\"Bm\":2,\"C\":1,\"D\":1,\"E\":3},\"Em/Eb\":{\"D\":4},\"Em/G\":{\"C\":3},\"Em6\":{\"C\":3,\"C/E\":5,\"C7\":8,\"Cmaj7/E\":6,\"D\":3,\"Em\":5,\"Em6/C#\":1,\"Em7\":3},\"Em6/C#\":{\"Fm7\":1},\"Em7\":{\"A\":21,\"A13\":3,\"A7\":30,\"Am\":36,\"Bm\":2,\"C\":11,\"C#dim\":3,\"C7\":2,\"D\":2,\"Em\":1,\"Em6\":24,\"Em7/D\":1,\"F\":3,\"F#m7\":2,\"Fdim\":3,\"Gm\":2},\"Em7/D\":{\"Em6\":1},\"Emadd9\":{\"Em\":4},\"Emaj7\":{\"C#m\":1},\"Esus4\":{\"Am\":1,\"E\":21,\"Em\":2},\"F\":{\"A\":8,\"Ab\":6,\"Ab7\":4,\"Am\":21,\"B\":1,\"B6\":1,\"B7\":1,\"Bb\":38,\"Bb7\":10,\"Bbm7\":9,\"Bm\":2,\"Bm7\":1,\"C\":149,\"C#\":1,\"C#7\":2,\"C+\":7,\"C/E\":20,\"C7\":22,\"Cm\":2,\"D\":12,\"D7\":9,\"Dm\":22,\"Dm7\":7,\"E\":19,\"E7\":5,\"Em\":9,\"Em7\":8,\"F\":19,\"F#\":5,\"F#dim7\":7,\"F#m7/E\":1,\"F6\":4,\"F7\":12,\"Fadd9\":1,\"Fm\":5,\"Fm6\":1,\"Fmaj7\":5,\"G\":124,\"G7\":20,\"Gm\":2,\"Gm7\":2},\"F#\":{\"A\":10,\"A#m\":3,\"Am\":1,\"Amaj7\":4,\"B\":23,\"B7\":5,\"Bm\":20,\"Bm/G\":1,\"C\":4,\"C#\":1,\"D\":4,\"D7\":2,\"Dmaj7\":4,\"E\":16,\"F\":11,\"F#\":5,\"F#m\":5,\"F#maj7\":2,\"F#sus4\":3,\"Fmaj7\":2,\"G\":13,\"G#7\":2,\"G#m\":1},\"F#/C#\":{\"Bm\":3,\"F#\":1},\"F#7\":{\"A\":1,\"B\":16,\"B7\":32,\"Bm\":4,\"Bm7\":16,\"C#\":1,\"C#m\":3,\"C#m7\":1,\"C7\":1,\"E\":4,\"E7\":1,\"Eb7\":1,\"F#7sus4\":7,\"F#m7\":1,\"F#m7/B\":5,\"Fmaj7\":1,\"G#7\":2,\"G6\":1},\"F#7sus4\":{\"E\":2,\"F#\":5,\"F#7\":5},\"F#M\":{\"F\":1},\"F#dim7\":{\"Bb\":1,\"F7\":1,\"Gdim7\":1,\"Gm\":1,\"Gm7\":6},\"F#m\":{\"A\":34,\"A7\":1,\"Am\":5,\"B\":18,\"B6\":10,\"B7\":27,\"Bm\":46,\"C\":1,\"C#7/F\":7,\"C#m\":27,\"D\":39,\"D#m\":1,\"Dm\":25,\"Dmaj7\":2,\"E\":29,\"E7\":3,\"Em\":7,\"Em7\":13,\"F#\":4,\"F#m\":4,\"F#m/B\":1,\"F#m7\":9,\"F#mmaj7\":3,\"Faug\":4,\"Fdim7\":1,\"Fmaj7\":1,\"G\":7,\"G#\":11,\"G#m\":10,\"Gm\":1,\"Gmaj7\":4},\"F#m/B\":{\"E\":2,\"E6/B\":2},\"F#m7\":{\"A\":8,\"A/E\":2,\"A7\":7,\"Amaj7/B\":6,\"B\":9,\"B7\":22,\"C#7\":1,\"C#m\":4,\"D\":8,\"Dmaj7\":4,\"E\":3,\"F#m/B\":1,\"G#7\":2},\"F#m7/B\":{\"B9\":11},\"F#m7/E\":{\"E6\":7},\"F#m7b5\":{\"Am/F#\":2,\"E\":1,\"Fmaj7\":11,\"G\":1},\"F#maj7\":{\"F#7\":2},\"F#mmaj7\":{\"F#m7\":3},\"F#sus4\":{\"F#\":9},\"F/A\":{\"Bb\":1,\"E\":1,\"G\":2},\"F/C\":{\"C\":2,\"C7\":1,\"Dm7\":1},\"F/D\":{\"G\":1},\"F/G\":{\"C\":2},\"F6\":{\"B\":1,\"C\":12,\"F7\":4,\"G11\":1,\"G7\":11},\"F6add9\":{\"G7sus4\":1},\"F6add9/A\":{\"F6add9/C\":1},\"F6add9/C\":{\"Fadd9/D\":1},\"F7\":{\"A\":2,\"Ab7\":2,\"Am\":4,\"B7\":1,\"Bb\":14,\"Bb7\":6,\"C\":14,\"C7\":15,\"D7\":4,\"E7\":3,\"Eb\":2,\"F\":1,\"F6\":1,\"G7\":9},\"FM7\":{\"Bm7\":1,\"C\":2},\"Fadd2/G\":{\"C\":2},\"Fadd9\":{\"C\":19,\"D\":1,\"Em\":10,\"Fadd9\":4,\"Fmaj7\":1,\"G\":4,\"G7\":5,\"G7/F\":6},\"Fadd9/D\":{\"Dm7\":1,\"F6add9/A\":1,\"G\":1},\"Faug\":{\"A\":4},\"Fdim\":{\"D/F#\":3},\"Fdim7\":{\"Em\":1},\"Fm\":{\"Ab7\":3,\"B\":28,\"Bb\":2,\"C\":17,\"C#\":6,\"Cm\":7,\"E7\":1,\"Fm\":5,\"Fm/C\":3,\"G\":6,\"G7\":5},\"Fm/C\":{\"Caug\":3},\"Fm6\":{\"C\":6,\"Fm7\":6,\"G\":1},\"Fm7\":{\"Bb7\":1,\"Bbadd9\":23,\"Dm7b5/F\":3,\"Fm6\":6,\"Fm7\":6,\"G\":1},\"Fmaj7\":{\"A7\":1,\"Am\":11,\"Bm\":2,\"Bm7b5\":4,\"C\":1,\"D\":1,\"Dm\":2,\"Dm7\":1,\"E7\":2,\"Emaj7\":2,\"F#m7b5\":3,\"F6\":7,\"F7\":4,\"G\":1,\"G/A\":1,\"G7\":2},\"G\":{\"A\":182,\"A7\":36,\"A7sus\":1,\"Am\":96,\"Am7\":18,\"B\":11,\"B7\":24,\"Bb\":4,\"Bbdim7\":1,\"Bm\":44,\"Bm7\":12,\"C\":388,\"C#7\":3,\"C/D\":1,\"C/G\":29,\"C7\":6,\"C9\":2,\"Cadd9\":9,\"Cm\":9,\"Cmaj7\":9,\"Csus4\":2,\"D\":295,\"D#\":1,\"D#7\":1,\"D/F#\":12,\"D7\":76,\"D7/A\":1,\"Dm\":14,\"Dm7\":3,\"Dsus4\":1,\"E\":40,\"E7\":3,\"E7/G#\":4,\"Eb\":17,\"Eb7\":10,\"Em\":157,\"Em7\":10,\"F\":72,\"F#\":35,\"F#7sus4\":4,\"F#m\":16,\"F#m7\":3,\"F7\":1,\"Fadd9\":3,\"Fmaj7\":2,\"G\":212,\"G#\":12,\"G#dim7\":1,\"G#m7\":1,\"G+\":1,\"G/D\":14,\"G/F#\":7,\"G6\":3,\"G6/E\":3,\"G7\":64,\"G9\":3,\"Gadd9\":17,\"Gaug\":7,\"Gb\":1,\"Gm\":12,\"Gmaj7\":1},\"G#\":{\"A\":12,\"Am\":6,\"C\":2,\"C#\":3,\"C#m\":12,\"D#\":5,\"E7\":2,\"Eaug\":1,\"F\":4,\"F#\":1,\"Fm\":6,\"G#\":2},\"G#5\":{\"A\":2,\"Am\":2},\"G#7\":{\"A\":3,\"B\":1,\"B7\":1,\"Bm\":1,\"C#7\":9,\"C#m\":5,\"D\":3,\"F#m7\":8,\"G\":1,\"G#7\":1},\"G#7/D#\":{\"A\":6},\"G#aug\":{\"C/G\":1},\"G#dim7\":{\"Adim7\":1,\"F/A\":1},\"G#m\":{\"A\":6,\"B7\":2,\"C#\":1,\"C#m\":4,\"E\":7,\"E+5\":1,\"E7\":4,\"F#m\":23,\"G#m\":2,\"Gaug\":2,\"Gm\":15,\"Gm7\":5},\"G#m/B\":{\"F#m/B\":2},\"G#m7\":{\"A\":2,\"B/F#\":12,\"B7\":2,\"Bm\":2,\"C\":2,\"C#m7\":3},\"G#m7b5\":{\"Gmaj7\":6},\"G+\":{\"F\":1},\"G-\":{\"A-\":1},\"G/A\":{\"A\":1,\"Cmaj7\":1,\"D/A\":1,\"F\":2},\"G/B\":{\"A\":11,\"A7\":9,\"Am7\":1,\"B7\":1,\"C\":1,\"Em7\":2,\"G\":7,\"Gm\":6,\"Gm/Bb\":5},\"G/D\":{\"A\":2,\"A/D\":1,\"Am/D\":1,\"C\":1,\"Cadd9\":12,\"D\":6,\"Dm\":1},\"G/F\":{\"G/B\":2},\"G/F#\":{\"E\":4,\"Em\":2,\"Em6\":1},\"G11\":{\"C\":3},\"G13\":{\"C\":2,\"Em\":1},\"G5\":{\"D5\":2,\"G#5\":4,\"G6\":3},\"G6\":{\"A7\":4,\"Bm\":1,\"C\":2,\"D\":1,\"D7sus4\":2,\"Dadd9\":4,\"Dm\":1,\"E5\":1,\"F#\":1,\"F#7\":1,\"G\":7,\"G5\":2,\"G6\":1,\"Gmaj7\":1},\"G6/E\":{\"G\":3},\"G7\":{\"A\":16,\"A7\":9,\"A7#5\":5,\"Ab7\":1,\"Adim7\":1,\"Am\":16,\"B7\":4,\"Bb\":6,\"Bm\":12,\"Bm7\":1,\"C\":199,\"C#7\":1,\"C/G\":2,\"C11\":5,\"C7\":41,\"Cmaj7\":1,\"Csus4\":2,\"D\":13,\"D#\":4,\"D7\":38,\"D9\":9,\"Dm\":2,\"Dm7\":7,\"E\":6,\"Eb\":1,\"F\":10,\"F/G\":2,\"F7\":11,\"Fmaj7\":3,\"G\":16,\"G6\":2,\"G7\":28,\"G9\":1,\"Gm\":2},\"G7/B\":{\"C\":1},\"G7/F\":{\"C\":6,\"Fadd9\":9},\"G7sus4\":{\"G\":3},\"Gadd9\":{\"A\":1,\"G\":17},\"Gaug\":{\"Abaug\":1,\"B\":2,\"C\":6,\"Dm\":1,\"F\":4,\"G\":1},\"Gb\":{\"F\":1},\"Gbdim7\":{\"A\":1},\"Gbm\":{\"B\":2},\"Gdim7\":{\"F#dim7\":2,\"G#dim7\":1},\"Gm\":{\"A\":1,\"A7\":4,\"Ab\":2,\"Am\":2,\"Bb\":7,\"Bbm\":1,\"C\":13,\"C7\":1,\"Cm\":6,\"D\":22,\"Dm\":6,\"E7\":3,\"F\":1,\"F#m\":15,\"Fm\":1,\"G7\":2,\"Gm\":1,\"Gm7\":4},\"Gm/Bb\":{\"D/A\":4,\"F#m\":1},\"Gm6\":{\"Bm\":5,\"D\":5},\"Gm7\":{\"A7\":3,\"Bbm\":4,\"Bm6\":1,\"C/E\":4,\"C7\":11,\"C7+9\":8,\"D\":5,\"F\":2,\"F7\":1,\"Gm7\":5,\"Gmmaj7\":2},\"Gm7/B\":{\"Gm7/Bb\":24},\"Gm7/Bb\":{\"D\":22,\"Dsus4\":1},\"Gmaj\":{\"Bm6\":1,\"Bm7\":2},\"Gmaj7\":{\"A\":1,\"A7\":4,\"C\":2,\"Cmaj7\":5,\"Dadd9\":1,\"E7\":2,\"F#m\":9,\"F#sus4\":6,\"G6\":1,\"Gmaj7\":1},\"Gmaj9\":{\"G\":1},\"Gmmaj7\":{\"G7\":2},\"Gs4\":{\"A\":5},\"Gsus\":{\"C/G\":1},\"Gsus4\":{\"A7\":1,\"G\":3},\"H\":{\"C#m\":2,\"E\":3}},\"source\":{\"id\":\"38108\",\"type\":\"ColumnDataSource\"},\"test\":0,\"type\":{\"id\":\"38107\",\"type\":\"DataSource\"}},\"code\":\"\\n        type.name = cb_obj.value;\\n        test += 1\\n        console.log(test)\\n\\n        let data = source.data;\\n        let nextChords = next_chord_data[type.name]\\n\\n        data['chords'] = Object.keys(nextChords);\\n        data['counts'] = Object.values(nextChords);\\n\\n        source.change.emit();\\n    \"},\"id\":\"38109\",\"type\":\"CustomJS\"},{\"attributes\":{\"below\":[{\"id\":\"38119\",\"type\":\"LinearAxis\"}],\"center\":[{\"id\":\"38123\",\"type\":\"Grid\"},{\"id\":\"38127\",\"type\":\"Grid\"},{\"id\":\"38134\",\"type\":\"LabelSet\"}],\"left\":[{\"id\":\"38124\",\"type\":\"CategoricalAxis\"}],\"plot_height\":5000,\"renderers\":[{\"id\":\"38132\",\"type\":\"GlyphRenderer\"}],\"sizing_mode\":\"scale_height\",\"title\":{\"id\":\"38796\",\"type\":\"Title\"},\"toolbar\":{\"id\":\"38128\",\"type\":\"Toolbar\"},\"toolbar_location\":null,\"x_range\":{\"id\":\"38111\",\"type\":\"DataRange1d\"},\"x_scale\":{\"id\":\"38115\",\"type\":\"LinearScale\"},\"y_range\":{\"id\":\"38113\",\"type\":\"FactorRange\"},\"y_scale\":{\"id\":\"38117\",\"type\":\"CategoricalScale\"}},\"id\":\"38110\",\"subtype\":\"Figure\",\"type\":\"Plot\"},{\"attributes\":{},\"id\":\"38801\",\"type\":\"UnionRenderers\"},{\"attributes\":{\"callback\":null,\"data\":{\"chords\":[],\"counts\":[]},\"selected\":{\"id\":\"38802\",\"type\":\"Selection\"},\"selection_policy\":{\"id\":\"38801\",\"type\":\"UnionRenderers\"}},\"id\":\"38108\",\"type\":\"ColumnDataSource\"},{\"attributes\":{\"text\":\"\"},\"id\":\"38796\",\"type\":\"Title\"},{\"attributes\":{\"dimension\":1,\"ticker\":{\"id\":\"38125\",\"type\":\"CategoricalTicker\"}},\"id\":\"38127\",\"type\":\"Grid\"},{\"attributes\":{\"callback\":null,\"name\":\"\",\"selected\":{\"id\":\"38803\",\"type\":\"Selection\"}},\"id\":\"38107\",\"type\":\"DataSource\"},{\"attributes\":{\"callback\":null},\"id\":\"38111\",\"type\":\"DataRange1d\"},{\"attributes\":{},\"id\":\"38125\",\"type\":\"CategoricalTicker\"},{\"attributes\":{},\"id\":\"38798\",\"type\":\"BasicTickFormatter\"},{\"attributes\":{},\"id\":\"38802\",\"type\":\"Selection\"},{\"attributes\":{},\"id\":\"38117\",\"type\":\"CategoricalScale\"},{\"attributes\":{\"callback\":null,\"factors\":[\"E7sus4\",\"B7sus4\",\" E\",\"Bm/G\",\"F#m7/B\",\"B9\",\"B/D#\",\"F#sus4\",\"G#m7b5\",\"B/A#\",\"Eb6\",\"Fm/C\",\"Bdim7\",\"Bdim7/D\",\"Dm7b5/F\",\"Bbm/F\",\"Daug\",\"Fdim7\",\"Ebm\",\"Gmaj\",\"Abaug\",\"Gm7/Bb\",\"A/D\",\"D/Bb\",\"Gm7/B\",\"Bbaug\",\"Edim\",\"A7sus4\",\"Faug\",\"F6add9/A\",\"Fadd9/D\",\"F/D\",\"F6add9\",\"F6add9/C\",\"C+9\",\"Bm9\",\"C6/9\",\"Em(maj7)/D#\",\"Em7/D\",\"Em6/C#\",\"Em(maj7)\",\"B7-9\",\"G13\",\"C(7)\",\"Dbdim\",\"Em/Eb\",\"Bb6\",\"Em/G\",\"G#7/D#\",\"A9\",\"D#m7b5\",\"D/C#\",\"G7/B\",\"E+5\",\"Csus\",\"C+\",\"Bbadd9\",\"Cmaj7/E\",\"A-\",\"D-\",\"E-\",\"G-\",\"A7#5\",\"G+\",\"Amaj7/B\",\"H\",\"Cm/G\",\"F/G\",\"Am11\",\"D7sus\",\"Am7/D\",\"Dmadd9\",\"FM7\",\"Gsus\",\"Am/E\",\"B7/D#\",\"Gdim7\",\"Abdim7\",\"Adim7\",\"Db7\",\"E7b9\",\"G#5\",\"E7/G#\",\"Aaug\",\"Dm/F\",\"D/E\",\"Aadd9\",\"Am/G#\",\"D#m\",\"D7sus2\",\"C#m7b5\",\"E/A\",\"E/A#\",\"C7sus4\",\"Bb/A\",\"Amaj9\",\"Emaj7\",\"D#+5\",\"A(b9)\",\"D7/F#\",\"G#aug\",\"A/F\",\"Bsus\",\"C/A\",\"Gm/Bb\",\"F#M\",\"C7sus\",\"A/B\",\"E6/B\",\"G#m/B\",\"Bb/C\",\"A4\",\"Cm6\",\"C/D\",\"A6/E\",\"C#7/F\",\"A(v)\",\"E+\",\"Abm\",\"Gbm\",\"A#m\",\"Ab6\",\"Gb\",\"Ebdim7\",\"Edim7\",\"Cdim7\",\"Bdim\",\"Dbdim7\",\"Abmaj7\",\"Gbdim7\",\"Bbdim7\",\"G11\",\"Fdim\",\"Eb/G\",\"EB\",\"Eb/C\",\"Am/C\",\"D7#9\",\"G7#9\",\"Fadd2/G\",\"F#m7/E\",\"F#maj7\",\"F#mmaj7\",\"A#5\",\"C#5\",\"C7+5\",\"C7+9\",\"Gmmaj7\",\"Gs4\",\"As4\",\"Gm6\",\"Bm7b5\",\"G/F\",\"Gmaj9\",\"D13\",\"Csus2\",\"E/C#\",\"E/D\",\"G6/E\",\"Dm6\",\"A/F#\",\"Bm/A\",\"F#7sus4\",\"Bm/F#\",\"A/C#\",\"B/F#\",\"Ddim\",\"Bbm7\",\"Caug\",\"Am/F#\",\"A/G\",\"F#m7b5\",\"D7/A\",\"G7sus4\",\"G7/F\",\"D#dim\",\"C#m/G#\",\"Dm/C\",\"A13\",\"F#/C#\",\"Gadd9\",\"Bbdim\",\"Gsus4\",\"Fm6\",\"Emadd9\",\"F#m/B\",\"A7sus\",\"Dadd9\",\"G/F#\",\"Bsus4\",\"D#7\",\"G#dim7\",\"G5\",\"E5\",\"Asus\",\"Am/D\",\"Am/G\",\"Adim\",\"Cdim\",\"C11\",\"D/B\",\"Bm6\",\"G#m7\",\"Db\",\"Ab7\",\"G/A\",\"D5\",\"E9\",\"A/E\",\"C#dim\",\"\",\"Em/D\",\"E/B\",\"B6\",\"Eaug\",\"F#dim7\",\"Am6\",\"Cm7\",\"F/C\",\"F/A\",\"C5\",\"Amaj7\",\"C9\",\"A5\",\"Asus4\",\"Fm7\",\"Bbm\",\"Gaug\",\"D/F#\",\"Cadd9\",\"Am7/G\",\"Csus4\",\"Asus2\",\"G9\",\"Dm9\",\"Eb7\",\"D/C\",\"C/E\",\"D/A\",\"C#m7\",\"Esus4\",\"D7sus4\",\"Fadd9\",\"B5\",\"Dmaj7\",\"G/D\",\"D9\",\"C6\",\"D#\",\"E6\",\"D6\",\"Gmaj7\",\"Dsus2\",\"Gm7\",\"F6\",\"Em6\",\"G/B\",\"C/B\",\"Bb7\",\"G#7\",\"Eb\",\"G6\",\"C#\",\"Cmaj7\",\"A6\",\"Ab\",\"Dsus4\",\"Fm\",\"C#7\",\"G#\",\"F#m7\",\"Bm7\",\"Fmaj7\",\"C/G\",\"Cm\",\"G#m\",\"Dm7\",\"F7\",\"F#7\",\"Gm\",\"Em7\",\"Am7\",\"F#\",\"C7\",\"C#m\",\"Bb\",\"Dm\",\"F#m\",\"B\",\"G7\",\"Bm\",\"B7\",\"Em\",\"E7\",\"D7\",\"Am\",\"F\",\"A7\",\"E\",\"C\",\"G\",\"D\",\"A\"]},\"id\":\"38113\",\"type\":\"FactorRange\"},{\"attributes\":{\"formatter\":{\"id\":\"38800\",\"type\":\"CategoricalTickFormatter\"},\"ticker\":{\"id\":\"38125\",\"type\":\"CategoricalTicker\"}},\"id\":\"38124\",\"type\":\"CategoricalAxis\"}],\"root_ids\":[\"38136\"]},\"title\":\"Bokeh Application\",\"version\":\"1.4.0\"}};\n",
       "  var render_items = [{\"docid\":\"5d96c39e-45f6-4133-a50f-993484855b46\",\"roots\":{\"38136\":\"18ad4951-a3a2-4f03-b16c-6828ebdb6172\"}}];\n",
       "  root.Bokeh.embed.embed_items_notebook(docs_json, render_items);\n",
       "\n",
       "  }\n",
       "  if (root.Bokeh !== undefined) {\n",
       "    embed_document(root);\n",
       "  } else {\n",
       "    var attempts = 0;\n",
       "    var timer = setInterval(function(root) {\n",
       "      if (root.Bokeh !== undefined) {\n",
       "        clearInterval(timer);\n",
       "        embed_document(root);\n",
       "      } else {\n",
       "        attempts++;\n",
       "        if (attempts > 100) {\n",
       "          clearInterval(timer);\n",
       "          console.log(\"Bokeh: ERROR: Unable to run BokehJS code because BokehJS library is missing\");\n",
       "        }\n",
       "      }\n",
       "    }, 10, root)\n",
       "  }\n",
       "})(window);"
      ],
      "application/vnd.bokehjs_exec.v0+json": ""
     },
     "metadata": {
      "application/vnd.bokehjs_exec.v0+json": {
       "id": "38136"
      }
     },
     "output_type": "display_data"
    }
   ],
   "source": [
    "from bokeh.models import CustomJS, DataSource, Dropdown\n",
    "from bokeh.layouts import column\n",
    "\n",
    "menu = [(chord, chord) for chord in data['total_count'].keys()]\n",
    "dropdown = Dropdown(label=\"Chord\", menu=menu)\n",
    "\n",
    "chord_type = DataSource(name='')\n",
    "source = ColumnDataSource(data=dict(chords=[], counts=[]))\n",
    "callback = CustomJS(args=dict(source=source, type=chord_type, next_chord_data=data['next_chord']), code=\"\"\"\n",
    "        type.name = cb_obj.value;\n",
    "\n",
    "        let data = source.data;\n",
    "        let nextChords = next_chord_data[type.name]\n",
    "\n",
    "        data['chords'] = Object.keys(nextChords);\n",
    "        data['counts'] = Object.values(nextChords);\n",
    "\n",
    "        source.change.emit();\n",
    "    \"\"\")\n",
    "\n",
    "dropdown.js_on_change('value', callback)\n",
    "\n",
    "p = figure(y_range=sorted_chords,\n",
    "           height=5000,\n",
    "           toolbar_location=None,\n",
    "           tools=\"\",\n",
    "           sizing_mode=\"scale_height\")\n",
    "p.hbar(y='chords', right='counts', height=0.9, source=source)\n",
    "\n",
    "labels = LabelSet(x='counts', y='chords', text='counts', level='glyph',\n",
    "        x_offset=10, y_offset=-6, source=source, render_mode='canvas', text_font_size='12px')\n",
    "p.add_layout(labels)\n",
    "\n",
    "\n",
    "show(column(dropdown, p))"
   ]
  }
 ],
 "metadata": {
  "kernelspec": {
   "display_name": "Python 3",
   "language": "python",
   "name": "python3"
  },
  "language_info": {
   "codemirror_mode": {
    "name": "ipython",
    "version": 3
   },
   "file_extension": ".py",
   "mimetype": "text/x-python",
   "name": "python",
   "nbconvert_exporter": "python",
   "pygments_lexer": "ipython3",
   "version": "3.7.6"
  }
 },
 "nbformat": 4,
 "nbformat_minor": 4
}
