{
 "cells": [
  {
   "cell_type": "markdown",
   "metadata": {},
   "source": [
    "# The Beatles Chords"
   ]
  },
  {
   "cell_type": "markdown",
   "metadata": {},
   "source": [
    "## Inspiration\n",
    "\n",
    "This project was inspired by Hooktheory.\n",
    "https://www.hooktheory.com/theorytab/common-chord-progressions\n",
    "https://www.hooktheory.com/trends\n",
    "\n",
    "These are some of the questions this project hopes to shed light on:\n",
    "* What chords are most popular?\n",
    "* How often do these chords show up in songs\n",
    "* What tends to be the next chord?\n",
    "\n",
    "The data was scraped from Ultimate Guitar.\n",
    "https://www.ultimate-guitar.com/artist/the_beatles_1916?filter=chords\n",
    "To demonstrate proof of concept, only The Beatles tabs were scraped and the chords in their songs were analyzed.\n",
    "\n"
   ]
  },
  {
   "cell_type": "code",
   "execution_count": 4,
   "metadata": {},
   "outputs": [],
   "source": [
    "# parse through the csv file and create a data structure\n",
    "# the data should include counts for the following:\n",
    "# 1. total count of each chord and how often they are used\n",
    "# 2. the number of songs each chord is used in\n",
    "# 3. the count of what chords come after each\n",
    "\n",
    "import csv\n",
    "\n",
    "with open('the_beatles_chords.csv', mode='r') as csvfile:\n",
    "    reader = csv.reader(csvfile)\n",
    "    next(reader)\n",
    "    # making dict removes duplicates\n",
    "    chords_dict = {rows[0]:rows[1] for rows in reader}\n",
    "\n",
    "# print(chords_dict)\n",
    "\n",
    "data = {\n",
    "    'total_count': {},\n",
    "    'song_count': {},\n",
    "    'next_chord': {}\n",
    "}\n",
    "\n",
    "for chord_str in chords_dict.values():\n",
    "    chords = chord_str.split(',')\n",
    "    unique_chords = list(set(chords))\n",
    "    \n",
    "    for chord in unique_chords:\n",
    "        if chord in data['song_count']:\n",
    "            data['song_count'][chord] += 1\n",
    "        else:\n",
    "            data['song_count'][chord] = 1\n",
    "    \n",
    "    \n",
    "    for i, chord in enumerate(chords):\n",
    "        if chord in data['total_count']:\n",
    "            data['total_count'][chord] += 1\n",
    "        else:\n",
    "            data['total_count'][chord] = 1\n",
    "        \n",
    "        if i != len(chords)-1:\n",
    "            next_chord = chords[i+1]\n",
    "            if chord in data['next_chord']:\n",
    "                if next_chord in data['next_chord'][chord]:\n",
    "                    data['next_chord'][chord][next_chord] += 1\n",
    "                else:\n",
    "                    data['next_chord'][chord][next_chord] = 1\n",
    "            else:\n",
    "                data['next_chord'][chord] = {\n",
    "                    next_chord: 1\n",
    "                }\n",
    "            \n",
    "# print(data)\n",
    "            "
   ]
  },
  {
   "cell_type": "markdown",
   "metadata": {},
   "source": [
    "## Total chord counts in all songs"
   ]
  },
  {
   "cell_type": "code",
   "execution_count": 5,
   "metadata": {},
   "outputs": [],
   "source": [
    "from bokeh.io import output_file, show\n",
    "from bokeh.plotting import figure\n",
    "from bokeh.models import ColumnDataSource, LabelSet\n",
    "\n",
    "total_count_chords = []\n",
    "total_count_counts = []\n",
    "\n",
    "for chord, count in data['total_count'].items():\n",
    "    total_count_chords.append(chord)\n",
    "    total_count_counts.append(count)\n",
    "    \n",
    "sorted_chords = sorted(total_count_chords, key=lambda c: total_count_counts[total_count_chords.index(c)])\n",
    "\n",
    "source = ColumnDataSource(data=dict(chords=total_count_chords, counts=total_count_counts))\n",
    "\n",
    "p = figure(y_range=sorted_chords,\n",
    "           title=\"Total Chord Counts\",\n",
    "           toolbar_location=None,\n",
    "           tools=\"\",\n",
    "           height=5000,\n",
    "           sizing_mode=\"scale_width\")\n",
    "p.hbar(y='chords', right='counts', height=0.9, source=source)\n",
    "\n",
    "labels = LabelSet(x='counts', y='chords', text='counts', level='glyph',\n",
    "        x_offset=10, y_offset=-6, source=source, render_mode='canvas', text_font_size='12px')\n",
    "p.add_layout(labels)\n",
    "\n",
    "show(p)\n"
   ]
  },
  {
   "cell_type": "markdown",
   "metadata": {},
   "source": [
    "## Counts of songs each chord appears in"
   ]
  },
  {
   "cell_type": "code",
   "execution_count": 6,
   "metadata": {},
   "outputs": [],
   "source": [
    "song_count_chords = []\n",
    "song_count_counts = []\n",
    "\n",
    "for chord, count in data['song_count'].items():\n",
    "    song_count_chords.append(chord)\n",
    "    song_count_counts.append(count)\n",
    "    \n",
    "sorted_chords = sorted(song_count_chords, key=lambda c: song_count_counts[song_count_chords.index(c)])\n",
    "\n",
    "source = ColumnDataSource(data=dict(chords=song_count_chords, counts=song_count_counts))\n",
    "\n",
    "p = figure(y_range=sorted_chords,\n",
    "           title=\"Chord Song Counts\",\n",
    "           toolbar_location=None,\n",
    "           tools=\"\",\n",
    "           height=5000,\n",
    "           sizing_mode=\"scale_width\")\n",
    "p.hbar(y='chords', right='counts', height=0.9, source=source)\n",
    "\n",
    "labels = LabelSet(x='counts', y='chords', text='counts', level='glyph',\n",
    "        x_offset=10, y_offset=-6, source=source, render_mode='canvas', text_font_size='12px')\n",
    "p.add_layout(labels)\n",
    "\n",
    "show(p)"
   ]
  },
  {
   "cell_type": "markdown",
   "metadata": {},
   "source": [
    "## Analysis of next chords"
   ]
  },
  {
   "cell_type": "code",
   "execution_count": 10,
   "metadata": {
    "scrolled": false
   },
   "outputs": [],
   "source": [
    "from bokeh.models import CustomJS, DataSource, Dropdown\n",
    "from bokeh.layouts import column\n",
    "\n",
    "menu = [(chord, chord) for chord in data['total_count'].keys()]\n",
    "dropdown = Dropdown(label=\"Chord\", menu=menu)\n",
    "\n",
    "chord_type = DataSource(name='')\n",
    "source = ColumnDataSource(data=dict(chords=[], counts=[]))\n",
    "callback = CustomJS(args=dict(source=source, type=chord_type, next_chord_data=data['next_chord']), code=\"\"\"\n",
    "        type.name = cb_obj.value;\n",
    "\n",
    "        let data = source.data;\n",
    "        let nextChords = next_chord_data[type.name]\n",
    "\n",
    "        data['chords'] = Object.keys(nextChords);\n",
    "        data['counts'] = Object.values(nextChords);\n",
    "\n",
    "        source.change.emit();\n",
    "    \"\"\")\n",
    "\n",
    "dropdown.js_on_change('value', callback)\n",
    "\n",
    "p = figure(y_range=sorted_chords,\n",
    "           height=5000,\n",
    "           toolbar_location=None,\n",
    "           tools=\"\",\n",
    "           sizing_mode=\"scale_width\")\n",
    "p.hbar(y='chords', right='counts', height=0.9, source=source)\n",
    "\n",
    "labels = LabelSet(x='counts', y='chords', text='counts', level='glyph',\n",
    "        x_offset=10, y_offset=-6, source=source, render_mode='canvas', text_font_size='12px')\n",
    "p.add_layout(labels)\n",
    "\n",
    "\n",
    "show(column(dropdown, p))"
   ]
  }
 ],
 "metadata": {
  "kernelspec": {
   "display_name": "Python 3",
   "language": "python",
   "name": "python3"
  },
  "language_info": {
   "codemirror_mode": {
    "name": "ipython",
    "version": 3
   },
   "file_extension": ".py",
   "mimetype": "text/x-python",
   "name": "python",
   "nbconvert_exporter": "python",
   "pygments_lexer": "ipython3",
   "version": "3.7.6"
  }
 },
 "nbformat": 4,
 "nbformat_minor": 4
}
